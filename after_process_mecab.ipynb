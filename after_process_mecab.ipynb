{
 "cells": [
  {
   "cell_type": "code",
   "execution_count": 6,
   "metadata": {
    "collapsed": false
   },
   "outputs": [
    {
     "data": {
      "text/plain": [
       "7836"
      ]
     },
     "execution_count": 6,
     "metadata": {},
     "output_type": "execute_result"
    }
   ],
   "source": [
    "unknown_rule, rest_unknown_list = UNK.remove_no_meanings(unknown_list, mecab)\n",
    "len(rest_unknown_list)"
   ]
  },
  {
   "cell_type": "code",
   "execution_count": 7,
   "metadata": {
    "collapsed": true
   },
   "outputs": [],
   "source": [
    "post_ma_list = UNK.shape_changer(unknown_rule)"
   ]
  },
  {
   "cell_type": "markdown",
   "metadata": {},
   "source": [
    "rule 기록하기"
   ]
  },
  {
   "cell_type": "code",
   "execution_count": 8,
   "metadata": {
    "collapsed": false
   },
   "outputs": [
    {
     "name": "stdout",
     "output_type": "stream",
     "text": [
      "Load Complete! total 7110 rules\n"
     ]
    }
   ],
   "source": [
    "post_ma = Post_ma(tokenizer_name='mecab')"
   ]
  },
  {
   "cell_type": "code",
   "execution_count": 10,
   "metadata": {
    "collapsed": true
   },
   "outputs": [],
   "source": [
    "# post_ma.update(post_ma_list, write=True)"
   ]
  },
  {
   "cell_type": "code",
   "execution_count": 11,
   "metadata": {
    "collapsed": false
   },
   "outputs": [],
   "source": [
    "post_ma.load()"
   ]
  },
  {
   "cell_type": "code",
   "execution_count": 9,
   "metadata": {
    "collapsed": true
   },
   "outputs": [],
   "source": [
    "train_ma_docs = post_ma.replace_ma_docs(train_ma_docs, UNK.unknown_loc)"
   ]
  },
  {
   "cell_type": "markdown",
   "metadata": {},
   "source": [
    "부호 빼고 사전을 만들어보자!"
   ]
  },
  {
   "cell_type": "code",
   "execution_count": 138,
   "metadata": {
    "collapsed": false,
    "scrolled": true
   },
   "outputs": [
    {
     "name": "stdout",
     "output_type": "stream",
     "text": [
      "Unknown(중복제거): 14946, Total Unknown: 97512, Total MA: 10679387\n"
     ]
    }
   ],
   "source": [
    "UNK = Unknown_words(train_ma_docs, app_id_list)\n",
    "unknown_list = UNK.get_unknown_words()"
   ]
  },
  {
   "cell_type": "code",
   "execution_count": 139,
   "metadata": {
    "collapsed": false
   },
   "outputs": [
    {
     "data": {
      "text/plain": [
       "['ㅠ제발요ㅠㅠ',\n",
       " 'ㅠㅠㅜ',\n",
       " '냑',\n",
       " '쳣캏',\n",
       " 'ㅜㅜ이럴줄알았으면',\n",
       " 'ㅠㅠ영어',\n",
       " 'ㅠㅠㅠㅠ스티커',\n",
       " '페메영통할때',\n",
       " '핮',\n",
       " '쬬',\n",
       " 'ㅌㄴ',\n",
       " '렇게좋다고알바들떠드는지ㅡ',\n",
       " '즁에는',\n",
       " '귯걸',\n",
       " '뎃히니주세여ㅠ',\n",
       " 'ㅜㅠ버전도',\n",
       " 'ㅗ채',\n",
       " 'ㅜㅜ데이터',\n",
       " '얗쟈ㅗ재누ㅏ유ㅐㅓ두애',\n",
       " '썻는대요']"
      ]
     },
     "execution_count": 139,
     "metadata": {},
     "output_type": "execute_result"
    }
   ],
   "source": [
    "unknown_list[20:40]"
   ]
  },
  {
   "cell_type": "code",
   "execution_count": 142,
   "metadata": {
    "collapsed": false
   },
   "outputs": [
    {
     "data": {
      "text/plain": [
       "[['454638411', (483, 6)]]"
      ]
     },
     "execution_count": 142,
     "metadata": {},
     "output_type": "execute_result"
    }
   ],
   "source": [
    "UNK.unknown_loc['페메영통할때']"
   ]
  },
  {
   "cell_type": "code",
   "execution_count": 181,
   "metadata": {
    "collapsed": false
   },
   "outputs": [],
   "source": [
    "def choice(train_docs, app_id_list):\n",
    "    li = []\n",
    "    for app_id in app_id_list:\n",
    "        for i, doc in enumerate(train_docs[app_id]['reviews']):\n",
    "            if (' ' not in doc) & (len(doc)>=50):\n",
    "                li.append([app_id, i])\n",
    "    idx = np.random.randint(0, len(li)-1)\n",
    "    a = li[idx]\n",
    "    return train_docs[a[0]]['reviews'][a[1]], a"
   ]
  },
  {
   "cell_type": "code",
   "execution_count": 183,
   "metadata": {
    "collapsed": false
   },
   "outputs": [
    {
     "data": {
      "text/plain": [
       "('안드로이드쓸때캔디카메라가무음카메라여서썻는데어쩐일인지아이폰6로버꿔서캔디카메라를쓰는데무음이안되네여답변좀부탁드려여....ㅠㅠ',\n",
       " ['881267423', 454])"
      ]
     },
     "execution_count": 183,
     "metadata": {},
     "output_type": "execute_result"
    }
   ],
   "source": [
    "test2, a = choice(train_docs, app_id_list)\n",
    "test2, a"
   ]
  },
  {
   "cell_type": "code",
   "execution_count": 184,
   "metadata": {
    "collapsed": false
   },
   "outputs": [
    {
     "data": {
      "text/plain": [
       "[('안드로이드', 'NNG'),\n",
       " ('쓸', 'VV+ETM'),\n",
       " ('때', 'NNG'),\n",
       " ('캔디', 'NNG'),\n",
       " ('카메라', 'NNG'),\n",
       " ('가', 'JKS'),\n",
       " ('무음', 'NNG'),\n",
       " ('카메라', 'NNG'),\n",
       " ('여서', 'VCP+EC'),\n",
       " ('썻는데어쩐일인지아이폰', 'UNKNOWN'),\n",
       " ('6', 'SN'),\n",
       " ('로버', 'NNG'),\n",
       " ('꿔', 'VV+EC'),\n",
       " ('서', 'VV+EC'),\n",
       " ('캔디', 'NNG'),\n",
       " ('카메라', 'NNG'),\n",
       " ('를', 'JKO'),\n",
       " ('쓰', 'VV'),\n",
       " ('는데', 'EC'),\n",
       " ('무음', 'NNG'),\n",
       " ('이', 'JKS'),\n",
       " ('안', 'MAG'),\n",
       " ('되', 'VV'),\n",
       " ('네여', 'EF'),\n",
       " ('답변', 'NNG'),\n",
       " ('좀', 'MAG'),\n",
       " ('부탁', 'NNG'),\n",
       " ('드려', 'VV+EF'),\n",
       " ('여', 'JKS+EF'),\n",
       " ('.', 'SF'),\n",
       " ('...', 'SY'),\n",
       " ('ㅠㅠ', 'UNKNOWN')]"
      ]
     },
     "execution_count": 184,
     "metadata": {},
     "output_type": "execute_result"
    }
   ],
   "source": [
    "mecab.pos(test2)"
   ]
  },
  {
   "cell_type": "code",
   "execution_count": 186,
   "metadata": {
    "collapsed": false
   },
   "outputs": [
    {
     "data": {
      "text/plain": [
       "[('썻는데', 'UNKNOWN'),\n",
       " ('어쩐', 'VV+ETM'),\n",
       " ('일', 'NNG'),\n",
       " ('인지', 'VCP+EC'),\n",
       " ('아이폰', 'NNP')]"
      ]
     },
     "execution_count": 186,
     "metadata": {},
     "output_type": "execute_result"
    }
   ],
   "source": [
    "mecab.pos('썻는데 어쩐일인지아이폰')"
   ]
  },
  {
   "cell_type": "markdown",
   "metadata": {},
   "source": [
    "---"
   ]
  },
  {
   "cell_type": "markdown",
   "metadata": {},
   "source": [
    "test데이터 생성해보기"
   ]
  },
  {
   "cell_type": "code",
   "execution_count": 3,
   "metadata": {
    "collapsed": false
   },
   "outputs": [],
   "source": [
    "train_docs, app_id_list = get_data_json('./data/train_json.txt')"
   ]
  },
  {
   "cell_type": "code",
   "execution_count": 4,
   "metadata": {
    "collapsed": false
   },
   "outputs": [
    {
     "data": {
      "text/plain": [
       "'유령계정이 자꾸 되네요... 뭐 의심갈만한거 있지도 않은데 계속해서 유령되요 제발 이것좀 어떻게 해주세요ㅜㅜㅜㅜㅜ진짜 찾아갈꺼에요ㅜㅜㅜ'"
      ]
     },
     "execution_count": 4,
     "metadata": {},
     "output_type": "execute_result"
    }
   ],
   "source": [
    "test = train_docs['333903271']['reviews'][460]\n",
    "test"
   ]
  },
  {
   "cell_type": "code",
   "execution_count": 5,
   "metadata": {
    "collapsed": false
   },
   "outputs": [
    {
     "data": {
      "text/plain": [
       "'잘되다가갑자기경유노선목록이제공되지안다고하고노선정보도확인안되고뭡니까?확인해주세요~저는아이폰을사용중입니다'"
      ]
     },
     "execution_count": 5,
     "metadata": {},
     "output_type": "execute_result"
    }
   ],
   "source": [
    "test2 = train_docs['417608082']['reviews'][373]\n",
    "test2"
   ]
  },
  {
   "cell_type": "markdown",
   "metadata": {},
   "source": [
    "---"
   ]
  },
  {
   "cell_type": "markdown",
   "metadata": {},
   "source": [
    "---"
   ]
  },
  {
   "cell_type": "markdown",
   "metadata": {},
   "source": [
    "## 구상:\n",
    "우선 형태소 분석함 > 형태소 분석이 안된 구문들 추출함 > 안되는 이유 체크(띄어쓰기에 반영) + 테스트할 단어 교정 체크 > \n",
    "\n",
    "\n",
    "\n",
    "단어 추출함 [명사, 형용사, 동사] (2글자 이상) / [조사등] 추출 > \n",
    "\n",
    "그리고 다시 형태소 분석전부터 시작해서 띄어쓰기 교정를 우선 시행 후, 교정할 단어를 교정하고(normalize) 형태소 분석"
   ]
  },
  {
   "cell_type": "markdown",
   "metadata": {},
   "source": [
    "1) 그냥 형태소 분석 때림"
   ]
  },
  {
   "cell_type": "code",
   "execution_count": 2,
   "metadata": {
    "collapsed": false
   },
   "outputs": [],
   "source": [
    "from collections import Counter, defaultdict\n",
    "from konlpy.tag import Mecab, Komoran\n",
    "from utils import Unknown_words, Post_ma, Make_dictionay\n",
    "import ujson\n",
    "mecab = Mecab()\n",
    "komoran = Komoran()\n",
    "def get_data_json(filename):\n",
    "    with open(filename, 'r', encoding='utf-8') as file:\n",
    "        texts = file.read()\n",
    "        data = ujson.loads(texts)\n",
    "        app_ids_list = list(data.keys())\n",
    "    return data, app_ids_list"
   ]
  },
  {
   "cell_type": "code",
   "execution_count": 7,
   "metadata": {
    "collapsed": true
   },
   "outputs": [],
   "source": [
    "train_ma_docs, app_id_list = get_data_json('./data/ma_train_json_mecab.txt')"
   ]
  },
  {
   "cell_type": "markdown",
   "metadata": {},
   "source": [
    "2) 안된 이유 찾기:\n",
    "\n",
    "첫째로, 자음, 모음 단독으로 붙여진 것들은 형태소 분석이 안됨.\n",
    "\n",
    "둘째로, mecab이 분석 못하는 단어들 (이건 솔직히 background지식): 축약어, 오타 등등\n",
    "\n",
    "셋째로, 띄어쓰기가 제대로 안되어 있으면 형태소 분석이 안됨"
   ]
  },
  {
   "cell_type": "code",
   "execution_count": 20,
   "metadata": {
    "collapsed": false
   },
   "outputs": [
    {
     "name": "stdout",
     "output_type": "stream",
     "text": [
      "Unknown(중복제거): 14946, Total Unknown: 97512, Total MA: 10679387\n"
     ]
    }
   ],
   "source": [
    "UNK = Unknown_words(train_ma_docs, app_id_list)\n",
    "unknown_list = UNK.get_unknown_words()"
   ]
  },
  {
   "cell_type": "code",
   "execution_count": 127,
   "metadata": {
    "collapsed": false
   },
   "outputs": [
    {
     "data": {
      "text/plain": [
       "['ㅠㅠㅠ다',\n",
       " '앜ㅋㅋ',\n",
       " '튕겻네요',\n",
       " '괜찬ㄹ은어플인거같아요',\n",
       " '짦은',\n",
       " '뎃받게하지말구여',\n",
       " '밌다ㅠㅜ',\n",
       " '낞고',\n",
       " 'ㅠㅠㅠㅠ공부하던거',\n",
       " 'ㅡ설명이없에']"
      ]
     },
     "execution_count": 127,
     "metadata": {},
     "output_type": "execute_result"
    }
   ],
   "source": [
    "n = np.random.randint(0, len(unknown_list)-10)\n",
    "unknown_list[n:(n+10)]"
   ]
  },
  {
   "cell_type": "markdown",
   "metadata": {},
   "source": [
    "따라서, 아래와 같은 rule을 만듬\n",
    "\n",
    "행태소 분석이 이상하게 된 경우:\n",
    "1. 교정하고 싶은 단어를 찾아서 우선 교정해준다(보수적으로 하기!, 주로 축약어를 진행)\n",
    "1. 단어 유사도를 측정하여 오타를 잡아보자!(대표적인 오타들을 조정? 됫 > 됐)\n",
    "\n",
    "\n",
    "형태소 분석이 아예 안된 경우:\n",
    "1. 단일 자음 모음은 첫 번째와 그 마지막 번째를 띄워주기\n",
    "1. 형식 형태소 옆에 띄어쓰기 해주기 \n"
   ]
  },
  {
   "cell_type": "markdown",
   "metadata": {},
   "source": [
    "### 형식 형태소가 아예 안된 경우"
   ]
  },
  {
   "cell_type": "markdown",
   "metadata": {},
   "source": [
    "* 단일 자음 모음\n",
    "\n",
    "첫번째와 그 마지막 번째를 골라서 묶어주고 양옆에는 띄어쓰기 해주기"
   ]
  },
  {
   "cell_type": "code",
   "execution_count": 101,
   "metadata": {
    "collapsed": true
   },
   "outputs": [],
   "source": [
    "# 나중에 단어 유사도를 측정하기 위해서 만들어 놓음\n",
    "chosung_list = ['ㄱ', 'ㄲ', 'ㄴ', 'ㄷ', 'ㄸ', 'ㄹ', 'ㅁ', 'ㅂ', 'ㅃ', 'ㅅ', 'ㅆ', 'ㅇ', 'ㅈ', 'ㅉ', 'ㅊ', 'ㅋ', 'ㅌ', 'ㅍ', 'ㅎ']\n",
    "jungsung_list = ['ㅏ', 'ㅐ', 'ㅑ', 'ㅒ', 'ㅓ', 'ㅔ', 'ㅕ', 'ㅖ', 'ㅗ', 'ㅘ', 'ㅙ', 'ㅚ', 'ㅛ', 'ㅜ', 'ㅝ', 'ㅞ', 'ㅟ', 'ㅠ', 'ㅡ',\n",
    "                 'ㅢ', 'ㅣ']\n",
    "jongsung_list = [' ', 'ㄱ', 'ㄲ', 'ㄳ', 'ㄴ', 'ㄵ', 'ㄶ', 'ㄷ', 'ㄹ', 'ㄺ', 'ㄻ', 'ㄼ', 'ㄽ', 'ㄾ', 'ㄿ', 'ㅀ', 'ㅁ', 'ㅂ', 'ㅄ',\n",
    "                 'ㅅ', 'ㅆ', 'ㅇ', 'ㅈ', 'ㅊ', 'ㅋ', 'ㅌ', 'ㅍ', 'ㅎ']"
   ]
  },
  {
   "cell_type": "code",
   "execution_count": 1,
   "metadata": {
    "collapsed": true
   },
   "outputs": [],
   "source": [
    "from itertools import islice\n",
    "from collections import deque"
   ]
  },
  {
   "cell_type": "code",
   "execution_count": 102,
   "metadata": {
    "collapsed": false
   },
   "outputs": [],
   "source": [
    "def space_jamo(doc):\n",
    "    doc_splited = [char for char in doc]\n",
    "    space_idx = get_spacing_index(doc_splited)\n",
    "    tokens_list = split_doc_to_words(doc, space_idx)\n",
    "    new_text = ' '.join(tokens_list)\n",
    "    return new_text\n",
    "\n",
    "def split_doc_to_words(doc, space_idx):\n",
    "    tokens_list = []\n",
    "    for i in range(2, len(space_idx)+1):\n",
    "        start, stop = deque(islice(space_idx, i), maxlen=2)\n",
    "        tokens_list.append(doc[start:stop])\n",
    "    return tokens_list\n",
    "\n",
    "def get_spacing_index(doc_splited):\n",
    "    space_idx = []\n",
    "    doc_len = len(doc_splited)\n",
    "    for i in range(1, doc_len):\n",
    "        window = deque(islice(doc_splited, i), maxlen=2)  # 번째 원소 전까지 window가 움직이는거 \n",
    "        if check_jamo(window):\n",
    "            space_idx.append(i-1)\n",
    "    # slicing위한 작업\n",
    "    if 0 not in space_idx:\n",
    "        space_idx.insert(0, 0)\n",
    "    if doc_len not in space_idx:\n",
    "        space_idx.insert(len(space_idx), doc_len)\n",
    "    return space_idx\n",
    "   \n",
    "def check_jamo(window):\n",
    "    check_list = ['ㄱ', 'ㄲ', 'ㄴ', 'ㄷ', 'ㄸ', 'ㄹ', 'ㅁ', 'ㅂ', 'ㅃ', 'ㅅ', 'ㅆ', 'ㅇ', 'ㅈ', 'ㅉ', \n",
    "                  'ㅊ', 'ㅋ', 'ㅌ', 'ㅍ', 'ㅎ', 'ㅏ', 'ㅐ', 'ㅑ', 'ㅒ', 'ㅓ', 'ㅔ', 'ㅕ', 'ㅖ', 'ㅗ', \n",
    "                  'ㅘ', 'ㅙ', 'ㅚ', 'ㅛ', 'ㅜ', 'ㅝ', 'ㅞ', 'ㅟ', 'ㅠ', 'ㅡ', 'ㅢ', 'ㅣ', 'ㄳ', 'ㄵ', \n",
    "                  'ㄶ', 'ㄺ', 'ㄻ', 'ㄼ', 'ㄽ', 'ㄾ', 'ㄿ', 'ㅀ', 'ㅄ']\n",
    "    mask = [True if char in check_list else False for char in window]\n",
    "    if sum(mask) == 1:\n",
    "        return True\n",
    "    else:\n",
    "        return False"
   ]
  },
  {
   "cell_type": "code",
   "execution_count": 105,
   "metadata": {
    "collapsed": false
   },
   "outputs": [
    {
     "data": {
      "text/plain": [
       "'유령계정이 자꾸 되네요... 뭐 의심갈만한거 있지도 않은데 계속해서 유령되요 제발 이것좀 어떻게 해주세요ㅜㅜㅜㅜㅜ진짜 찾아갈꺼에요ㅜㅜㅜ'"
      ]
     },
     "execution_count": 105,
     "metadata": {},
     "output_type": "execute_result"
    }
   ],
   "source": [
    "test"
   ]
  },
  {
   "cell_type": "code",
   "execution_count": 106,
   "metadata": {
    "collapsed": false
   },
   "outputs": [
    {
     "data": {
      "text/plain": [
       "'유령계정이 자꾸 되네요... 뭐 의심갈만한거 있지도 않은데 계속해서 유령되요 제발 이것좀 어떻게 해주세요 ㅜㅜㅜㅜㅜ 진짜 찾아갈꺼에요 ㅜㅜㅜ'"
      ]
     },
     "execution_count": 106,
     "metadata": {},
     "output_type": "execute_result"
    }
   ],
   "source": [
    "space_jamo(test)"
   ]
  },
  {
   "cell_type": "markdown",
   "metadata": {},
   "source": [
    "* 형식 형태소 오른쪽에 띄어쓰기 해주기\n",
    "\n",
    "unknown생겼을 때 하면 효과가 좋을 듯\n",
    "\n",
    "1) 사전 만들기\n",
    "\n",
    "전부 형태소 분석이 불가 한 것들은 우선 NULL 처리함, 그리고 2자 이상만 취급한다 \n",
    "\n",
    "[위키백과:형태소](https://ko.wikipedia.org/wiki/%ED%98%95%ED%83%9C%EC%86%8C)"
   ]
  },
  {
   "cell_type": "code",
   "execution_count": 10,
   "metadata": {
    "collapsed": true
   },
   "outputs": [],
   "source": [
    "# 실질 형태소: 주로 왼쪽\n",
    "full_morphemes = ['NNG','NNP','NNB','NNBC','NR','NP','VV','VA','VX','VCP','VCN','MM',\n",
    "                 'MAG','MAJ','IC']\n",
    "# 형식 형태소: 주로 오른쪽\n",
    "empty_morphemes = ['JKS','JKC','JKG','JKO','JKB','JKV','JKQ','JX','JC','EP','EF',\n",
    "                  'EC','ETN','ETM','XPN','XSN','XSV','XSA'] \n",
    "# 'XPN'(접두사) 은 띄어쓰기 제외, ETM중 (-기)만 띄어쓰기함\n",
    "\n",
    "# 한자, 숫자, 영어 등\n",
    "not_koreans = ['SL','SH','SN']\n",
    "# 부호들\n",
    "signs = ['SF', 'SE', 'SSO', 'SSC', 'SC', 'SY']"
   ]
  },
  {
   "cell_type": "code",
   "execution_count": null,
   "metadata": {
    "collapsed": true
   },
   "outputs": [],
   "source": []
  },
  {
   "cell_type": "code",
   "execution_count": 11,
   "metadata": {
    "collapsed": true
   },
   "outputs": [],
   "source": [
    "make_dict = Make_dictionay()"
   ]
  },
  {
   "cell_type": "code",
   "execution_count": 13,
   "metadata": {
    "collapsed": false,
    "scrolled": false
   },
   "outputs": [
    {
     "name": "stdout",
     "output_type": "stream",
     "text": [
      "total words: 51759\n",
      "complete!\n"
     ]
    }
   ],
   "source": [
    "make_dict.fit(train_ma_docs, \n",
    "              delete_pos=not_koreans+signs,\n",
    "              min_word_length=2,\n",
    "              maxwords=100000)"
   ]
  },
  {
   "cell_type": "markdown",
   "metadata": {},
   "source": [
    "형식 형태소를 추출해서 그 오른쪽에 띄어쓰기를 진행한다. 무조건 2글자 ...한 글자는 안댐"
   ]
  },
  {
   "cell_type": "code",
   "execution_count": 14,
   "metadata": {
    "collapsed": false
   },
   "outputs": [],
   "source": [
    "def get_EM_list(dictionary):\n",
    "    # 'EP'(선어말어미), 'XPN'(접두사) 은 띄어쓰기 제외, ETM중 (+기)만 띄어쓰기함\n",
    "    empty_morphemes = ['JKS','JKC','JKG','JKO','JKB','JKV','JKQ','JX','JC','EF',\n",
    "                       'EC','ETN','ETM','XSN','XSV','XSA'] \n",
    "    full_morphemes = ['NNG','NNP','NNB','NNBC','NR','NP','VV','VA','VX','VCP','VCN','MM',\n",
    "                      'MAG','MAJ','IC']\n",
    "    EM_list = []\n",
    "    for k in dictionary.keys():\n",
    "        if k == 'NULL':\n",
    "            continue\n",
    "        word, morph = k.split('/')\n",
    "        if len(morph.split('+')) > 1:\n",
    "            if check_empty_morph(word, morph.split('+'), empty_morphemes):\n",
    "                EM_list.append(word)\n",
    "        elif morph in empty_morphemes:\n",
    "            EM_list.append(word)\n",
    "            \n",
    "    return list(set(EM_list))\n",
    "            \n",
    "def check_empty_morph(word, morph, empty_morphemes):\n",
    "    for m in morph:\n",
    "         if m in empty_morphemes:\n",
    "            if (m == 'ETN') & (word == '기'):  # ETN은 뒤에 띄어쓰기를 안하나 +기 는 해야됨\n",
    "                return True\n",
    "            elif (m == 'ETN') & (word != '기'):\n",
    "                return False\n",
    "            else:\n",
    "                return True\n",
    "            "
   ]
  },
  {
   "cell_type": "code",
   "execution_count": 15,
   "metadata": {
    "collapsed": false,
    "scrolled": true
   },
   "outputs": [],
   "source": [
    "EM_list = get_EM_list(make_dict.word_dict_idx)"
   ]
  },
  {
   "cell_type": "code",
   "execution_count": 16,
   "metadata": {
    "collapsed": false
   },
   "outputs": [
    {
     "data": {
      "text/plain": [
       "['처진다', '걸텐데', '굳힌', '서도', '고우나', '떠올려서', '다릅니다', '언데', '그른가', '써야할지']"
      ]
     },
     "execution_count": 16,
     "metadata": {},
     "output_type": "execute_result"
    }
   ],
   "source": [
    "EM_list[:10] # 조금 문제가 있음 어쨌든 해봅시다"
   ]
  },
  {
   "cell_type": "markdown",
   "metadata": {},
   "source": [
    "만약에 이것들 뒤로 spacing이 되어 있으면 space안함"
   ]
  },
  {
   "cell_type": "code",
   "execution_count": 70,
   "metadata": {
    "collapsed": false
   },
   "outputs": [],
   "source": [
    "def space_EMs(doc, EM_list):\n",
    "    n = len(EM_list)\n",
    "    i = 0\n",
    "    while i < n:\n",
    "        empty_morpheme = EM_list[i]\n",
    "        doc = space_empty_morpheme(doc, empty_morpheme)\n",
    "        i += 1\n",
    "    return doc\n",
    "\n",
    "def space_empty_morpheme(doc, empty_morpheme):\n",
    "    assert doc != '' \n",
    "    if empty_morpheme in doc:\n",
    "        start_idx = doc.index(empty_morpheme)\n",
    "        stop_idx = start_idx + len(empty_morpheme)\n",
    "        doc = doc[:stop_idx] + ' ' + doc[stop_idx:]\n",
    "        return doc\n",
    "    else:\n",
    "        return doc"
   ]
  },
  {
   "cell_type": "code",
   "execution_count": 72,
   "metadata": {
    "collapsed": false
   },
   "outputs": [
    {
     "data": {
      "text/plain": [
       "'잘되다가 갑자기경유노선목록이제공되지안다 고  하고 노선정보도확인 안되고뭡니까  ?확인해 주세요 ~저는아이폰을사용중입니다  '"
      ]
     },
     "execution_count": 72,
     "metadata": {},
     "output_type": "execute_result"
    }
   ],
   "source": [
    "aa = space_EMs(test2, EM_list)\n",
    "aa"
   ]
  },
  {
   "cell_type": "code",
   "execution_count": 50,
   "metadata": {
    "collapsed": false
   },
   "outputs": [
    {
     "data": {
      "text/plain": [
       "'잘되다가갑자기경유노선목록이제공되지안다고하고노선정보도확인안되고뭡니까?확인해주세요~저는아이폰을사용중입니다'"
      ]
     },
     "execution_count": 50,
     "metadata": {},
     "output_type": "execute_result"
    }
   ],
   "source": [
    "test2"
   ]
  },
  {
   "cell_type": "markdown",
   "metadata": {},
   "source": [
    "---"
   ]
  },
  {
   "cell_type": "markdown",
   "metadata": {},
   "source": [
    "안되는 구문 추출 해서 적용하자!"
   ]
  },
  {
   "cell_type": "code",
   "execution_count": 3,
   "metadata": {
    "collapsed": true
   },
   "outputs": [],
   "source": [
    "UNK = Unknown_words(train_ma_docs, app_id_list)"
   ]
  },
  {
   "cell_type": "code",
   "execution_count": 4,
   "metadata": {
    "collapsed": false,
    "scrolled": true
   },
   "outputs": [
    {
     "name": "stdout",
     "output_type": "stream",
     "text": [
      "Unknown(중복제거): 14946, Total Unknown: 97512, Total MA: 10679387\n"
     ]
    }
   ],
   "source": [
    "unknown_list = UNK.get_unknown_words()"
   ]
  },
  {
   "cell_type": "code",
   "execution_count": 99,
   "metadata": {
    "collapsed": false,
    "scrolled": true
   },
   "outputs": [
    {
     "data": {
      "text/plain": [
       "[('빙신', 'NNG'), ('드', 'VV'), ('드라', 'EC')]"
      ]
     },
     "execution_count": 99,
     "metadata": {},
     "output_type": "execute_result"
    }
   ],
   "source": [
    "mecab.pos('빙신드드라') "
   ]
  },
  {
   "cell_type": "markdown",
   "metadata": {},
   "source": [
    "교정 할 단어들: (그냥 품사 안하고 원글에서 교정할 수 도 있음, 생각좀 해보자)\n",
    "\n",
    "/data/preprocessing 저장해둠 "
   ]
  }
 ],
 "metadata": {
  "kernelspec": {
   "display_name": "Python [conda root]",
   "language": "python",
   "name": "conda-root-py"
  },
  "language_info": {
   "codemirror_mode": {
    "name": "ipython",
    "version": 3
   },
   "file_extension": ".py",
   "mimetype": "text/x-python",
   "name": "python",
   "nbconvert_exporter": "python",
   "pygments_lexer": "ipython3",
   "version": "3.6.0"
  }
 },
 "nbformat": 4,
 "nbformat_minor": 2
}
