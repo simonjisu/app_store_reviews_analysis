{
 "cells": [
  {
   "cell_type": "markdown",
   "metadata": {},
   "source": [
    "## Load Data From DB"
   ]
  },
  {
   "cell_type": "code",
   "execution_count": 1,
   "metadata": {
    "collapsed": true
   },
   "outputs": [],
   "source": [
    "import sqlalchemy\n",
    "from data import settings\n",
    "from sqlalchemy.orm import sessionmaker\n",
    "from sqlalchemy.ext.declarative import declarative_base\n",
    "from sqlalchemy import Column, Integer, String\n",
    "\n",
    "engine = sqlalchemy.create_engine(settings.DB_TYPE + settings.DB_USER + \":\" + settings.DB_PASSWORD + \"@\" + settings.DB_URL + \":\" + settings.DB_PORT + \"/\" + settings.DB_NAME, echo=settings.QUERY_ECHO)\n",
    "Session = sessionmaker(bind=engine)\n",
    "session = Session()\n",
    "Base = declarative_base()\n",
    "\n",
    "class Reviews(Base):\n",
    "    # table name:\n",
    "    __tablename__ = 'reviews'\n",
    "    # table column:\n",
    "    idx = Column(Integer, primary_key=True)\n",
    "    app_id = Column(String)\n",
    "    app_name = Column(String)\n",
    "    review_id = Column(String)\n",
    "    title = Column(String)\n",
    "    author = Column(String)\n",
    "    author_url = Column(String)\n",
    "    version = Column(String)\n",
    "    rating = Column(String)\n",
    "    review = Column(String)\n",
    "    category = Column(String)\n",
    "\n",
    "Base.metadata.create_all(engine)"
   ]
  },
  {
   "cell_type": "code",
   "execution_count": 2,
   "metadata": {
    "collapsed": true
   },
   "outputs": [],
   "source": [
    "cols = ['app_id', 'app_name', 'title', 'review', 'rating', 'category', 'author_url', 'author']\n",
    "data_dict = {i:[] for i in cols}\n",
    "for row in session.query(Reviews.app_id, Reviews.app_name, Reviews.title, Reviews.review, Reviews.rating, \n",
    "                         Reviews.category, Reviews.author_url, Reviews.author):\n",
    "    for i, col_name in enumerate(cols):\n",
    "        data_dict[col_name].append(row[i])"
   ]
  },
  {
   "cell_type": "code",
   "execution_count": 3,
   "metadata": {
    "collapsed": true
   },
   "outputs": [],
   "source": [
    "data = pd.DataFrame(data_dict)\n",
    "del data_dict"
   ]
  },
  {
   "cell_type": "code",
   "execution_count": 4,
   "metadata": {
    "collapsed": false
   },
   "outputs": [
    {
     "data": {
      "text/plain": [
       "(616758, 8)"
      ]
     },
     "execution_count": 4,
     "metadata": {},
     "output_type": "execute_result"
    }
   ],
   "source": [
    "data.shape"
   ]
  },
  {
   "cell_type": "code",
   "execution_count": 5,
   "metadata": {
    "collapsed": false,
    "scrolled": true
   },
   "outputs": [
    {
     "data": {
      "text/plain": [
       "array(['엔터테인먼트', '교육', '음악', '의학', '라이프 스타일', '게임', '뉴스', '날씨', '여행',\n",
       "       '사진 및 비디오', '카탈로그', '소셜 네트워킹', '생산성', '건강 및 피트니스', '비즈니스', '스포츠',\n",
       "       '내비게이션', '유틸리티', '도서', '참고', '금융', 'NaN', '음식 및 음료', '잡지 및 신문',\n",
       "       'None'], dtype=object)"
      ]
     },
     "execution_count": 5,
     "metadata": {},
     "output_type": "execute_result"
    }
   ],
   "source": [
    "data.category.unique()"
   ]
  },
  {
   "cell_type": "code",
   "execution_count": 6,
   "metadata": {
    "collapsed": false
   },
   "outputs": [
    {
     "name": "stdout",
     "output_type": "stream",
     "text": [
      "total reviews for each category\n",
      "-------------------------------\n",
      "엔터테인먼트: 35808\n",
      "교육: 33328\n",
      "음악: 31417\n",
      "의학: 5231\n",
      "라이프 스타일: 45196\n",
      "게임: 59374\n",
      "뉴스: 10721\n",
      "날씨: 12504\n",
      "여행: 28900\n",
      "사진 및 비디오: 45749\n",
      "카탈로그: 2052\n",
      "소셜 네트워킹: 39442\n",
      "생산성: 47275\n",
      "건강 및 피트니스: 39093\n",
      "비즈니스: 23781\n",
      "스포츠: 5246\n",
      "내비게이션: 17922\n",
      "유틸리티: 35598\n",
      "도서: 24916\n",
      "참고: 16883\n",
      "금융: 41898\n",
      "NaN: 594\n",
      "음식 및 음료: 13309\n",
      "잡지 및 신문: 509\n",
      "None: 12\n"
     ]
    }
   ],
   "source": [
    "print('total reviews for each category\\n-------------------------------')\n",
    "for cat in data.category.unique():\n",
    "    print('{0}: {1}'.format(cat, data.loc[data.category == cat].shape[0]))"
   ]
  },
  {
   "cell_type": "code",
   "execution_count": 7,
   "metadata": {
    "collapsed": false
   },
   "outputs": [],
   "source": [
    "from collections import Counter, defaultdict\n",
    "from konlpy.tag import Twitter, Kkma, Mecab\n",
    "from pprint import pprint\n",
    "import ujson\n",
    "twitter = Twitter()\n",
    "kkma = Kkma()\n",
    "mecab = Mecab()\n",
    "word_counter = Counter()"
   ]
  },
  {
   "cell_type": "markdown",
   "metadata": {},
   "source": [
    "새로 생긴 명사를 추출한 후 트위터 분석기로 다시 분석?"
   ]
  },
  {
   "cell_type": "code",
   "execution_count": 8,
   "metadata": {
    "collapsed": false,
    "scrolled": false
   },
   "outputs": [
    {
     "data": {
      "text/plain": [
       "Index(['app_id', 'app_name', 'author', 'author_url', 'category', 'rating',\n",
       "       'review', 'title'],\n",
       "      dtype='object')"
      ]
     },
     "execution_count": 8,
     "metadata": {},
     "output_type": "execute_result"
    }
   ],
   "source": [
    "data.columns"
   ]
  },
  {
   "cell_type": "markdown",
   "metadata": {},
   "source": [
    "**문제정의**\n",
    "\n",
    "리뷰로 앱의 평점을예측?"
   ]
  },
  {
   "cell_type": "markdown",
   "metadata": {},
   "source": [
    "**가정:**\n",
    "\n",
    "1) 평점과 리뷰는 정의 상관관계"
   ]
  },
  {
   "cell_type": "code",
   "execution_count": 9,
   "metadata": {
    "collapsed": false,
    "scrolled": true
   },
   "outputs": [],
   "source": [
    "docs = data.loc[:, ['app_id', 'review', 'rating']]\n",
    "#docs = data.review.values.flatten()\n",
    "del data"
   ]
  },
  {
   "cell_type": "code",
   "execution_count": 11,
   "metadata": {
    "collapsed": false,
    "scrolled": true
   },
   "outputs": [
    {
     "name": "stdout",
     "output_type": "stream",
     "text": [
      "['462725252' '맨날 보여준것만 계속 돌아가면서 보여주는군.. 징그럽다 진짜' '1']\n",
      "['462725252' '잘 보고 있었는데 갑자기 없어진 이유가 뭐죠??????????????!!!?' '1']\n",
      "['462725252' '해외에서도 쓸수있게해주세요ㅠㅠㅠㅠ' '5']\n"
     ]
    }
   ],
   "source": [
    "for i in docs.values[:3]:\n",
    "    print(i)"
   ]
  },
  {
   "cell_type": "code",
   "execution_count": 20,
   "metadata": {
    "collapsed": false
   },
   "outputs": [],
   "source": [
    "def save_docs(filename, docs):\n",
    "    with open(filename, 'w', encoding='utf-8') as f:\n",
    "        for doc in docs.values:\n",
    "            print('{}\\t{}\\t{}'.format(doc[0], doc[1], doc[2]), file=f)\n",
    "    print('done!')"
   ]
  },
  {
   "cell_type": "code",
   "execution_count": 21,
   "metadata": {
    "collapsed": false
   },
   "outputs": [
    {
     "data": {
      "text/plain": [
       "(489847, 126911)"
      ]
     },
     "execution_count": 21,
     "metadata": {},
     "output_type": "execute_result"
    }
   ],
   "source": [
    "id_list = docs.loc[:, 'app_id'].unique()\n",
    "train_idx = int(len(id_list) * 0.8)\n",
    "train_app_id = id_list[train_idx]\n",
    "train_data_idx = docs.app_id[docs.app_id.isin([train_app_id])].index[-1]\n",
    "train_data = docs.iloc[:train_data_idx, :]\n",
    "test_data = docs.iloc[train_data_idx:, :]\n",
    "len(train_data), len(test_data)"
   ]
  },
  {
   "cell_type": "code",
   "execution_count": 22,
   "metadata": {
    "collapsed": false
   },
   "outputs": [
    {
     "name": "stdout",
     "output_type": "stream",
     "text": [
      "done!\n",
      "done!\n"
     ]
    }
   ],
   "source": [
    "save_docs('./data/train_docs.txt', train_data)\n",
    "save_docs('./data/test_docs.txt', test_data)"
   ]
  },
  {
   "cell_type": "code",
   "execution_count": 35,
   "metadata": {
    "collapsed": true
   },
   "outputs": [],
   "source": [
    "texts = docs.values[:, 1]"
   ]
  },
  {
   "cell_type": "code",
   "execution_count": 36,
   "metadata": {
    "collapsed": false
   },
   "outputs": [
    {
     "name": "stdout",
     "output_type": "stream",
     "text": [
      "scan vocabs ... \n",
      "num vocabs = 325932\n",
      "done = 10\n"
     ]
    }
   ],
   "source": [
    "min_count = 5   # 단어의 최소 출현 빈도수 (그래프 생성 시)\n",
    "max_length = 10 # 단어의 최대 길이\n",
    "wordrank_extractor = KRWordRank(min_count, max_length)\n",
    "\n",
    "beta = 0.85    # PageRank의 decaying factor beta\n",
    "max_iter = 10\n",
    "verbose = True\n",
    "keywords, rank, graph = wordrank_extractor.extract(texts, beta, max_iter, verbose)"
   ]
  },
  {
   "cell_type": "code",
   "execution_count": null,
   "metadata": {
    "collapsed": true
   },
   "outputs": [],
   "source": [
    "graph"
   ]
  },
  {
   "cell_type": "code",
   "execution_count": 37,
   "metadata": {
    "collapsed": false
   },
   "outputs": [
    {
     "name": "stdout",
     "output_type": "stream",
     "text": [
      "      너무:\t828.6947\n",
      "      삭제:\t640.1840\n",
      "      어플:\t580.5323\n",
      "      정말:\t568.2289\n",
      "     아이폰:\t405.5209\n",
      "      구매:\t399.9822\n",
      "      계속:\t397.0825\n",
      "      다시:\t388.7428\n",
      "      사용:\t380.7750\n",
      "      진짜:\t362.1981\n",
      "     좋아요:\t339.8915\n",
      "      다른:\t314.6733\n",
      "      좋은:\t313.9213\n",
      "      ㅠㅠ:\t298.1130\n",
      "     업데이:\t257.8514\n",
      "      안되:\t254.6464\n",
      "      많이:\t252.6781\n",
      "      부탁:\t241.7240\n",
      "     그리고:\t235.1442\n",
      "      빨리:\t225.3209\n",
      "      있는:\t213.9592\n",
      "      이거:\t213.7671\n",
      "      그냥:\t213.6841\n",
      "      있어:\t208.8117\n",
      "      결제:\t206.9336\n",
      "      바로:\t204.1968\n",
      "      ㅎㅎ:\t199.0980\n",
      "      다운:\t192.0124\n",
      "      기능:\t177.3777\n",
      "     어떻게:\t175.4072\n"
     ]
    }
   ],
   "source": [
    "for word, r in sorted(keywords.items(), key=lambda x:x[1], reverse=True)[:30]:\n",
    "    print('%8s:\\t%.4f' % (word, r))"
   ]
  },
  {
   "cell_type": "code",
   "execution_count": null,
   "metadata": {
    "collapsed": true
   },
   "outputs": [],
   "source": []
  },
  {
   "cell_type": "code",
   "execution_count": null,
   "metadata": {
    "collapsed": true
   },
   "outputs": [],
   "source": []
  },
  {
   "cell_type": "code",
   "execution_count": null,
   "metadata": {
    "collapsed": true
   },
   "outputs": [],
   "source": []
  },
  {
   "cell_type": "markdown",
   "metadata": {},
   "source": [
    "---"
   ]
  },
  {
   "cell_type": "code",
   "execution_count": 11,
   "metadata": {
    "collapsed": false
   },
   "outputs": [
    {
     "data": {
      "text/plain": [
       "array(['1177522900', '진짜 쓸만합니다!', '5'], dtype=object)"
      ]
     },
     "execution_count": 11,
     "metadata": {},
     "output_type": "execute_result"
    }
   ],
   "source": [
    "test_data.values[29436]"
   ]
  },
  {
   "cell_type": "code",
   "execution_count": 8,
   "metadata": {
    "collapsed": false
   },
   "outputs": [],
   "source": [
    "error_data = test_data.values[29437][1]"
   ]
  },
  {
   "cell_type": "code",
   "execution_count": 13,
   "metadata": {
    "collapsed": false
   },
   "outputs": [
    {
     "data": {
      "text/plain": [
       "5880"
      ]
     },
     "execution_count": 13,
     "metadata": {},
     "output_type": "execute_result"
    }
   ],
   "source": [
    "len(error_data)"
   ]
  },
  {
   "cell_type": "markdown",
   "metadata": {
    "collapsed": true
   },
   "source": [
    "---"
   ]
  },
  {
   "cell_type": "code",
   "execution_count": null,
   "metadata": {
    "collapsed": true
   },
   "outputs": [],
   "source": []
  },
  {
   "cell_type": "code",
   "execution_count": null,
   "metadata": {
    "collapsed": true
   },
   "outputs": [],
   "source": []
  },
  {
   "cell_type": "code",
   "execution_count": null,
   "metadata": {
    "collapsed": true
   },
   "outputs": [],
   "source": []
  },
  {
   "cell_type": "code",
   "execution_count": null,
   "metadata": {
    "collapsed": true
   },
   "outputs": [],
   "source": []
  },
  {
   "cell_type": "markdown",
   "metadata": {},
   "source": [
    "doc = {문서번호: {app_id: , tokens: [], rating: }, $\\cdots$}\n",
    "\n",
    "doc = [app_id, [tokens], rating]"
   ]
  },
  {
   "cell_type": "code",
   "execution_count": 9,
   "metadata": {
    "collapsed": true
   },
   "outputs": [],
   "source": [
    "with open('./data/train_data_twitter.txt', 'r') as f:\n",
    "    text = f.read()\n",
    "\n",
    "test_docs = ujson.loads(text)"
   ]
  },
  {
   "cell_type": "code",
   "execution_count": 18,
   "metadata": {
    "collapsed": false
   },
   "outputs": [
    {
     "data": {
      "text/plain": [
       "{'app_id': '462725252',\n",
       " 'rating': '5',\n",
       " 'tokens': ['해외/Noun',\n",
       "  '에서도/Josa',\n",
       "  '쓸/Verb',\n",
       "  '수/PreEomi',\n",
       "  '있/PreEomi',\n",
       "  '게/Eomi',\n",
       "  '해주세/Verb',\n",
       "  '요/Eomi',\n",
       "  'ㅠㅠㅠㅠ/KoreanParticle']}"
      ]
     },
     "execution_count": 18,
     "metadata": {},
     "output_type": "execute_result"
    }
   ],
   "source": [
    "test_docs['2']"
   ]
  },
  {
   "cell_type": "code",
   "execution_count": 24,
   "metadata": {
    "collapsed": false
   },
   "outputs": [
    {
     "data": {
      "text/plain": [
       "1226567"
      ]
     },
     "execution_count": 24,
     "metadata": {},
     "output_type": "execute_result"
    }
   ],
   "source": [
    "tokens = [t for d in test_docs.values() for t in d['tokens']]\n",
    "len(tokens)"
   ]
  },
  {
   "cell_type": "code",
   "execution_count": 25,
   "metadata": {
    "collapsed": false
   },
   "outputs": [
    {
     "name": "stdout",
     "output_type": "stream",
     "text": [
      "<Text: NMSC>\n"
     ]
    }
   ],
   "source": [
    "import nltk\n",
    "text = nltk.Text(tokens, name='NMSC')\n",
    "print(text)"
   ]
  },
  {
   "cell_type": "code",
   "execution_count": 26,
   "metadata": {
    "collapsed": false,
    "scrolled": true
   },
   "outputs": [
    {
     "name": "stdout",
     "output_type": "stream",
     "text": [
      "1226567\n",
      "36447\n",
      "[('./Punctuation', 25546),\n",
      " ('요/Eomi', 23022),\n",
      " ('이/Josa', 17971),\n",
      " ('좋/Adjective', 15885),\n",
      " ('도/Josa', 13011),\n",
      " ('에/Josa', 12481),\n",
      " ('가/Josa', 11597),\n",
      " ('고/Eomi', 10519),\n",
      " ('을/Josa', 10194),\n",
      " ('다/Eomi', 9248)]\n"
     ]
    }
   ],
   "source": [
    "print(len(text.tokens))                 # returns number of tokens\n",
    "print(len(set(text.tokens)))            # returns number of unique tokens\n",
    "pprint(text.vocab().most_common(10))"
   ]
  },
  {
   "cell_type": "markdown",
   "metadata": {},
   "source": [
    "Punctuation, Eomi, Josa 제거하고 보자"
   ]
  },
  {
   "cell_type": "code",
   "execution_count": 33,
   "metadata": {
    "collapsed": false
   },
   "outputs": [
    {
     "data": {
      "text/plain": [
       "798499"
      ]
     },
     "execution_count": 33,
     "metadata": {},
     "output_type": "execute_result"
    }
   ],
   "source": [
    "tokens = [t for d in test_docs.values() for t in d['tokens'] \\\n",
    "          if t.split('/')[1] not in ['Punctuation', 'Josa', 'Eomi', 'PreEomi']]\n",
    "len(tokens)"
   ]
  },
  {
   "cell_type": "code",
   "execution_count": 34,
   "metadata": {
    "collapsed": false
   },
   "outputs": [
    {
     "name": "stdout",
     "output_type": "stream",
     "text": [
      "<Text: NMSC>\n",
      "798499\n",
      "34734\n",
      "[('좋/Adjective', 15885),\n",
      " ('삭제/Noun', 8019),\n",
      " ('앱/Noun', 7867),\n",
      " ('구매/Noun', 7150),\n",
      " ('어플/Noun', 7020),\n",
      " ('너무/Noun', 5064),\n",
      " ('내/Determiner', 4760),\n",
      " ('되/Verb', 4534),\n",
      " ('역/Noun', 4405),\n",
      " ('안/VerbPrefix', 4281)]\n"
     ]
    }
   ],
   "source": [
    "text = nltk.Text(tokens, name='NMSC')\n",
    "print(text)\n",
    "print(len(text.tokens))                 # returns number of tokens\n",
    "print(len(set(text.tokens)))            # returns number of unique tokens\n",
    "pprint(text.vocab().most_common(10))"
   ]
  },
  {
   "cell_type": "code",
   "execution_count": 35,
   "metadata": {
    "collapsed": false
   },
   "outputs": [
    {
     "data": {
      "image/png": "[encoded data removed]",
      "text/plain": [
       "<matplotlib.figure.Figure at 0x1382072b0>"
      ]
     },
     "metadata": {},
     "output_type": "display_data"
    }
   ],
   "source": [
    "text.plot(50)"
   ]
  },
  {
   "cell_type": "code",
   "execution_count": 78,
   "metadata": {
    "collapsed": false
   },
   "outputs": [],
   "source": [
    "docs_a = []\n",
    "for k, doc in test_docs.items():\n",
    "    if doc['app_id'] == '447689011':\n",
    "        docs_a.append([doc['tokens'], doc['rating']])"
   ]
  },
  {
   "cell_type": "code",
   "execution_count": 85,
   "metadata": {
    "collapsed": false
   },
   "outputs": [],
   "source": [
    "docs_train = []\n",
    "for k, doc in test_docs.items():\n",
    "    if doc['app_id'] != '447689011':\n",
    "        docs_train.append([doc['tokens'], [doc['rating']]])"
   ]
  },
  {
   "cell_type": "code",
   "execution_count": 79,
   "metadata": {
    "collapsed": false
   },
   "outputs": [
    {
     "name": "stderr",
     "output_type": "stream",
     "text": [
      "Using TensorFlow backend.\n"
     ]
    }
   ],
   "source": [
    "from gensim.models import doc2vec"
   ]
  },
  {
   "cell_type": "code",
   "execution_count": 86,
   "metadata": {
    "collapsed": false
   },
   "outputs": [
    {
     "ename": "AttributeError",
     "evalue": "'list' object has no attribute 'words'",
     "output_type": "error",
     "traceback": [
      "\u001b[0;31m---------------------------------------------------------------------------\u001b[0m",
      "\u001b[0;31mAttributeError\u001b[0m                            Traceback (most recent call last)",
      "\u001b[0;32m<ipython-input-86-bd635de8eb57>\u001b[0m in \u001b[0;36m<module>\u001b[0;34m()\u001b[0m\n\u001b[1;32m      1\u001b[0m \u001b[0mdoc_vectorizer\u001b[0m \u001b[0;34m=\u001b[0m \u001b[0mdoc2vec\u001b[0m\u001b[0;34m.\u001b[0m\u001b[0mDoc2Vec\u001b[0m\u001b[0;34m(\u001b[0m\u001b[0msize\u001b[0m\u001b[0;34m=\u001b[0m\u001b[0;36m300\u001b[0m\u001b[0;34m,\u001b[0m \u001b[0malpha\u001b[0m\u001b[0;34m=\u001b[0m\u001b[0;36m0.025\u001b[0m\u001b[0;34m,\u001b[0m \u001b[0mmin_alpha\u001b[0m\u001b[0;34m=\u001b[0m\u001b[0;36m0.025\u001b[0m\u001b[0;34m,\u001b[0m \u001b[0mseed\u001b[0m\u001b[0;34m=\u001b[0m\u001b[0;36m1234\u001b[0m\u001b[0;34m)\u001b[0m\u001b[0;34m\u001b[0m\u001b[0m\n\u001b[0;32m----> 2\u001b[0;31m \u001b[0mdoc_vectorizer\u001b[0m\u001b[0;34m.\u001b[0m\u001b[0mbuild_vocab\u001b[0m\u001b[0;34m(\u001b[0m\u001b[0mdocs_train\u001b[0m\u001b[0;34m)\u001b[0m\u001b[0;34m\u001b[0m\u001b[0m\n\u001b[0m",
      "\u001b[0;32m~/anaconda/lib/python3.6/site-packages/gensim/models/word2vec.py\u001b[0m in \u001b[0;36mbuild_vocab\u001b[0;34m(self, sentences, keep_raw_vocab, trim_rule, progress_per, update)\u001b[0m\n\u001b[1;32m    549\u001b[0m \u001b[0;34m\u001b[0m\u001b[0m\n\u001b[1;32m    550\u001b[0m         \"\"\"\n\u001b[0;32m--> 551\u001b[0;31m         \u001b[0mself\u001b[0m\u001b[0;34m.\u001b[0m\u001b[0mscan_vocab\u001b[0m\u001b[0;34m(\u001b[0m\u001b[0msentences\u001b[0m\u001b[0;34m,\u001b[0m \u001b[0mprogress_per\u001b[0m\u001b[0;34m=\u001b[0m\u001b[0mprogress_per\u001b[0m\u001b[0;34m,\u001b[0m \u001b[0mtrim_rule\u001b[0m\u001b[0;34m=\u001b[0m\u001b[0mtrim_rule\u001b[0m\u001b[0;34m)\u001b[0m  \u001b[0;31m# initial survey\u001b[0m\u001b[0;34m\u001b[0m\u001b[0m\n\u001b[0m\u001b[1;32m    552\u001b[0m         \u001b[0mself\u001b[0m\u001b[0;34m.\u001b[0m\u001b[0mscale_vocab\u001b[0m\u001b[0;34m(\u001b[0m\u001b[0mkeep_raw_vocab\u001b[0m\u001b[0;34m=\u001b[0m\u001b[0mkeep_raw_vocab\u001b[0m\u001b[0;34m,\u001b[0m \u001b[0mtrim_rule\u001b[0m\u001b[0;34m=\u001b[0m\u001b[0mtrim_rule\u001b[0m\u001b[0;34m,\u001b[0m \u001b[0mupdate\u001b[0m\u001b[0;34m=\u001b[0m\u001b[0mupdate\u001b[0m\u001b[0;34m)\u001b[0m  \u001b[0;31m# trim by min_count & precalculate downsampling\u001b[0m\u001b[0;34m\u001b[0m\u001b[0m\n\u001b[1;32m    553\u001b[0m         \u001b[0mself\u001b[0m\u001b[0;34m.\u001b[0m\u001b[0mfinalize_vocab\u001b[0m\u001b[0;34m(\u001b[0m\u001b[0mupdate\u001b[0m\u001b[0;34m=\u001b[0m\u001b[0mupdate\u001b[0m\u001b[0;34m)\u001b[0m  \u001b[0;31m# build tables & arrays\u001b[0m\u001b[0;34m\u001b[0m\u001b[0m\n",
      "\u001b[0;32m~/anaconda/lib/python3.6/site-packages/gensim/models/doc2vec.py\u001b[0m in \u001b[0;36mscan_vocab\u001b[0;34m(self, documents, progress_per, trim_rule, update)\u001b[0m\n\u001b[1;32m    678\u001b[0m         \u001b[0;32mfor\u001b[0m \u001b[0mdocument_no\u001b[0m\u001b[0;34m,\u001b[0m \u001b[0mdocument\u001b[0m \u001b[0;32min\u001b[0m \u001b[0menumerate\u001b[0m\u001b[0;34m(\u001b[0m\u001b[0mdocuments\u001b[0m\u001b[0;34m)\u001b[0m\u001b[0;34m:\u001b[0m\u001b[0;34m\u001b[0m\u001b[0m\n\u001b[1;32m    679\u001b[0m             \u001b[0;32mif\u001b[0m \u001b[0;32mnot\u001b[0m \u001b[0mchecked_string_types\u001b[0m\u001b[0;34m:\u001b[0m\u001b[0;34m\u001b[0m\u001b[0m\n\u001b[0;32m--> 680\u001b[0;31m                 \u001b[0;32mif\u001b[0m \u001b[0misinstance\u001b[0m\u001b[0;34m(\u001b[0m\u001b[0mdocument\u001b[0m\u001b[0;34m.\u001b[0m\u001b[0mwords\u001b[0m\u001b[0;34m,\u001b[0m \u001b[0mstring_types\u001b[0m\u001b[0;34m)\u001b[0m\u001b[0;34m:\u001b[0m\u001b[0;34m\u001b[0m\u001b[0m\n\u001b[0m\u001b[1;32m    681\u001b[0m                     logger.warning(\n\u001b[1;32m    682\u001b[0m                         \u001b[0;34m\"Each 'words' should be a list of words (usually unicode strings).\"\u001b[0m\u001b[0;34m\u001b[0m\u001b[0m\n",
      "\u001b[0;31mAttributeError\u001b[0m: 'list' object has no attribute 'words'"
     ]
    }
   ],
   "source": [
    "doc_vectorizer = doc2vec.Doc2Vec(size=300, alpha=0.025, min_alpha=0.025, seed=1234)\n",
    "doc_vectorizer.build_vocab(docs_train)"
   ]
  },
  {
   "cell_type": "code",
   "execution_count": null,
   "metadata": {
    "collapsed": true
   },
   "outputs": [],
   "source": []
  },
  {
   "cell_type": "code",
   "execution_count": null,
   "metadata": {
    "collapsed": true
   },
   "outputs": [],
   "source": []
  },
  {
   "cell_type": "code",
   "execution_count": null,
   "metadata": {
    "collapsed": true
   },
   "outputs": [],
   "source": []
  },
  {
   "cell_type": "markdown",
   "metadata": {},
   "source": [
    "---"
   ]
  },
  {
   "cell_type": "code",
   "execution_count": 38,
   "metadata": {
    "collapsed": false
   },
   "outputs": [],
   "source": [
    "for doc in docs:\n",
    "    for word in doc.split():\n",
    "        n = len(word)\n",
    "        for e in range(1, n+1):\n",
    "            word_counter[word[:e]] += 1"
   ]
  },
  {
   "cell_type": "code",
   "execution_count": 46,
   "metadata": {
    "collapsed": false
   },
   "outputs": [
    {
     "name": "stdout",
     "output_type": "stream",
     "text": [
      "해외    , f=2024, p=0.033\n",
      "해외에   , f=464, p=0.23\n",
      "해외에서  , f=349, p=0.75\n",
      "해외에서도 , f=44, p=0.13\n"
     ]
    }
   ],
   "source": [
    "word = '해외에서도'\n",
    "n = len(word)\n",
    "\n",
    "for e in range(2, n+1):\n",
    "    w = word[:e]\n",
    "    f = word_counter[w]\n",
    "    p = f/word_counter[w[:e-1]]\n",
    "    print('{:6}, f={}, p={:.2}'.format(w, f, p))"
   ]
  },
  {
   "cell_type": "code",
   "execution_count": 10,
   "metadata": {
    "collapsed": true
   },
   "outputs": [],
   "source": [
    "from soynlp.word import WordExtractor"
   ]
  },
  {
   "cell_type": "code",
   "execution_count": 11,
   "metadata": {
    "collapsed": false
   },
   "outputs": [],
   "source": [
    "word_extractor = WordExtractor()"
   ]
  },
  {
   "cell_type": "code",
   "execution_count": 12,
   "metadata": {
    "collapsed": false
   },
   "outputs": [
    {
     "name": "stdout",
     "output_type": "stream",
     "text": [
      "training was done. used memory 2.217 Gbse memory 2.630 Gb\n"
     ]
    }
   ],
   "source": [
    "word_extractor.train(docs)"
   ]
  },
  {
   "cell_type": "code",
   "execution_count": 13,
   "metadata": {
    "collapsed": false
   },
   "outputs": [
    {
     "name": "stdout",
     "output_type": "stream",
     "text": [
      "all cohesion probabilities was computed. # words = 290779\n",
      "all branching entropies was computed # words = 328921\n",
      "all accessor variety was computed # words = 328921\n"
     ]
    }
   ],
   "source": [
    "words = word_extractor.extract()"
   ]
  },
  {
   "cell_type": "code",
   "execution_count": 15,
   "metadata": {
    "collapsed": false
   },
   "outputs": [],
   "source": [
    "from soynlp.tokenizer import LTokenizer, MaxScoreTokenizer, RegexTokenizer"
   ]
  },
  {
   "cell_type": "code",
   "execution_count": 16,
   "metadata": {
    "collapsed": false
   },
   "outputs": [],
   "source": [
    "scores = {w:s.cohesion_forward for w, s in words.items()}\n",
    "tokenizer1 = LTokenizer(scores=scores)\n",
    "tokenizer2 = MaxScoreTokenizer(scores=scores)\n",
    "tokenizer3 = RegexTokenizer()"
   ]
  },
  {
   "cell_type": "code",
   "execution_count": 24,
   "metadata": {
    "collapsed": false
   },
   "outputs": [
    {
     "data": {
      "text/plain": [
       "['돈주고',\n",
       " '삿는데',\n",
       " '그것도',\n",
       " '없고',\n",
       " '미치겟네',\n",
       " '그것도',\n",
       " '몇배차이입니까',\n",
       " '아',\n",
       " '업데이트좀',\n",
       " '단어없는게',\n",
       " '너무',\n",
       " '마니요',\n",
       " '다른건',\n",
       " '다',\n",
       " '좋은디']"
      ]
     },
     "execution_count": 24,
     "metadata": {},
     "output_type": "execute_result"
    }
   ],
   "source": [
    "tokenizer3.tokenize(docs[5913])"
   ]
  },
  {
   "cell_type": "code",
   "execution_count": 19,
   "metadata": {
    "collapsed": true
   },
   "outputs": [],
   "source": [
    "from soynlp.noun import LRNounExtractor"
   ]
  },
  {
   "cell_type": "code",
   "execution_count": 26,
   "metadata": {
    "collapsed": false
   },
   "outputs": [
    {
     "name": "stdout",
     "output_type": "stream",
     "text": [
      "used default noun predictor; Sejong corpus predictor\n",
      "used noun_predictor_sejong\n",
      "2398 r features was loaded\n",
      "scanning completed\n",
      "(L,R) has (28860, 16550) tokens\n",
      "building lr-graph completed"
     ]
    }
   ],
   "source": [
    "noun_extractor = LRNounExtractor(min_count=50)\n",
    "nouns = noun_extractor.train_extract(docs, minimum_noun_score=0.8)"
   ]
  },
  {
   "cell_type": "code",
   "execution_count": null,
   "metadata": {
    "collapsed": true
   },
   "outputs": [],
   "source": [
    "from soynlp.pos import "
   ]
  }
 ],
 "metadata": {
  "kernelspec": {
   "display_name": "Python [default]",
   "language": "python",
   "name": "python3"
  },
  "language_info": {
   "codemirror_mode": {
    "name": "ipython",
    "version": 3
   },
   "file_extension": ".py",
   "mimetype": "text/x-python",
   "name": "python",
   "nbconvert_exporter": "python",
   "pygments_lexer": "ipython3",
   "version": "3.6.0"
  }
 },
 "nbformat": 4,
 "nbformat_minor": 2
}
