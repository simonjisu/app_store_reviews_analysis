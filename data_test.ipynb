{
 "cells": [
  {
   "cell_type": "markdown",
   "metadata": {},
   "source": [
    "## Load Data From DB"
   ]
  },
  {
   "cell_type": "code",
   "execution_count": 1,
   "metadata": {
    "collapsed": false
   },
   "outputs": [],
   "source": [
    "import sqlalchemy\n",
    "from data import settings\n",
    "from sqlalchemy.orm import sessionmaker\n",
    "from sqlalchemy.ext.declarative import declarative_base\n",
    "from sqlalchemy import Column, Integer, String\n",
    "\n",
    "engine = sqlalchemy.create_engine(settings.DB_TYPE + settings.DB_USER + \":\" + settings.DB_PASSWORD + \"@\" + settings.DB_URL + \":\" + settings.DB_PORT + \"/\" + settings.DB_NAME, echo=settings.QUERY_ECHO)\n",
    "Session = sessionmaker(bind=engine)\n",
    "session = Session()\n",
    "Base = declarative_base()\n",
    "\n",
    "class Reviews(Base):\n",
    "    # table name:\n",
    "    __tablename__ = 'reviews'\n",
    "    # table column:\n",
    "    idx = Column(Integer, primary_key=True)\n",
    "    app_id = Column(String)\n",
    "    app_name = Column(String)\n",
    "    review_id = Column(String)\n",
    "    title = Column(String)\n",
    "    author = Column(String)\n",
    "    author_url = Column(String)\n",
    "    version = Column(String)\n",
    "    rating = Column(String)\n",
    "    review = Column(String)\n",
    "    category = Column(String)\n",
    "\n",
    "Base.metadata.create_all(engine)"
   ]
  },
  {
   "cell_type": "code",
   "execution_count": 2,
   "metadata": {
    "collapsed": true
   },
   "outputs": [],
   "source": [
    "cols = ['app_id', 'app_name', 'title', 'review', 'rating', 'category', 'author_url', 'author']\n",
    "data_dict = {i:[] for i in cols}\n",
    "for row in session.query(Reviews.app_id, Reviews.app_name, Reviews.title, Reviews.review, Reviews.rating, \n",
    "                         Reviews.category, Reviews.author_url, Reviews.author):\n",
    "    for i, col_name in enumerate(cols):\n",
    "        data_dict[col_name].append(row[i])"
   ]
  },
  {
   "cell_type": "code",
   "execution_count": 3,
   "metadata": {
    "collapsed": false
   },
   "outputs": [],
   "source": [
    "data = pd.DataFrame(data_dict)\n",
    "del data_dict"
   ]
  },
  {
   "cell_type": "code",
   "execution_count": 4,
   "metadata": {
    "collapsed": false
   },
   "outputs": [
    {
     "data": {
      "text/plain": [
       "(616758, 8)"
      ]
     },
     "execution_count": 4,
     "metadata": {},
     "output_type": "execute_result"
    }
   ],
   "source": [
    "data.shape"
   ]
  },
  {
   "cell_type": "code",
   "execution_count": 5,
   "metadata": {
    "collapsed": false,
    "scrolled": true
   },
   "outputs": [
    {
     "data": {
      "text/plain": [
       "array(['엔터테인먼트', '교육', '음악', '의학', '라이프 스타일', '게임', '뉴스', '날씨', '여행',\n",
       "       '사진 및 비디오', '카탈로그', '소셜 네트워킹', '생산성', '건강 및 피트니스', '비즈니스', '스포츠',\n",
       "       '내비게이션', '유틸리티', '도서', '참고', '금융', 'NaN', '음식 및 음료', '잡지 및 신문',\n",
       "       'None'], dtype=object)"
      ]
     },
     "execution_count": 5,
     "metadata": {},
     "output_type": "execute_result"
    }
   ],
   "source": [
    "data.category.unique()"
   ]
  },
  {
   "cell_type": "code",
   "execution_count": 6,
   "metadata": {
    "collapsed": false
   },
   "outputs": [
    {
     "name": "stdout",
     "output_type": "stream",
     "text": [
      "total reviews for each category\n",
      "-------------------------------\n",
      "엔터테인먼트: 35808\n",
      "교육: 33328\n",
      "음악: 31417\n",
      "의학: 5231\n",
      "라이프 스타일: 45196\n",
      "게임: 59374\n",
      "뉴스: 10721\n",
      "날씨: 12504\n",
      "여행: 28900\n",
      "사진 및 비디오: 45749\n",
      "카탈로그: 2052\n",
      "소셜 네트워킹: 39442\n",
      "생산성: 47275\n",
      "건강 및 피트니스: 39093\n",
      "비즈니스: 23781\n",
      "스포츠: 5246\n",
      "내비게이션: 17922\n",
      "유틸리티: 35598\n",
      "도서: 24916\n",
      "참고: 16883\n",
      "금융: 41898\n",
      "NaN: 594\n",
      "음식 및 음료: 13309\n",
      "잡지 및 신문: 509\n",
      "None: 12\n"
     ]
    }
   ],
   "source": [
    "print('total reviews for each category\\n-------------------------------')\n",
    "for cat in data.category.unique():\n",
    "    print('{0}: {1}'.format(cat, data.loc[data.category == cat].shape[0]))"
   ]
  },
  {
   "cell_type": "code",
   "execution_count": 7,
   "metadata": {
    "collapsed": false
   },
   "outputs": [],
   "source": [
    "from collections import Counter, defaultdict\n",
    "from konlpy.tag import Twitter, Kkma, Mecab\n",
    "from pprint import pprint\n",
    "import ujson\n",
    "twitter = Twitter()\n",
    "kkma = Kkma()\n",
    "mecab = Mecab()\n",
    "word_counter = Counter()"
   ]
  },
  {
   "cell_type": "markdown",
   "metadata": {},
   "source": [
    "새로 생긴 명사를 추출한 후 트위터 분석기로 다시 분석?"
   ]
  },
  {
   "cell_type": "code",
   "execution_count": 8,
   "metadata": {
    "collapsed": false,
    "scrolled": false
   },
   "outputs": [
    {
     "data": {
      "text/plain": [
       "Index(['app_id', 'app_name', 'author', 'author_url', 'category', 'rating',\n",
       "       'review', 'title'],\n",
       "      dtype='object')"
      ]
     },
     "execution_count": 8,
     "metadata": {},
     "output_type": "execute_result"
    }
   ],
   "source": [
    "data.columns"
   ]
  },
  {
   "cell_type": "markdown",
   "metadata": {},
   "source": [
    "**문제정의**\n",
    "\n",
    "리뷰로 앱의 평점을예측?"
   ]
  },
  {
   "cell_type": "markdown",
   "metadata": {},
   "source": [
    "**가정:**\n",
    "\n",
    "1) 평점과 리뷰는 정의 상관관계"
   ]
  },
  {
   "cell_type": "markdown",
   "metadata": {},
   "source": [
    "## 잔데이터 처리"
   ]
  },
  {
   "cell_type": "code",
   "execution_count": 5,
   "metadata": {
    "collapsed": false,
    "scrolled": true
   },
   "outputs": [],
   "source": [
    "docs = data.loc[:, ['app_id', 'review', 'rating']]\n",
    "#docs = data.review.values.flatten()\n",
    "del data"
   ]
  },
  {
   "cell_type": "code",
   "execution_count": 50,
   "metadata": {
    "collapsed": true
   },
   "outputs": [],
   "source": [
    "mask = docs.iloc[:, 0].str.len() > 10"
   ]
  },
  {
   "cell_type": "code",
   "execution_count": 55,
   "metadata": {
    "collapsed": false,
    "scrolled": true
   },
   "outputs": [
    {
     "data": {
      "text/html": [
       "<div>\n",
       "<style>\n",
       "    .dataframe thead tr:only-child th {\n",
       "        text-align: right;\n",
       "    }\n",
       "\n",
       "    .dataframe thead th {\n",
       "        text-align: left;\n",
       "    }\n",
       "\n",
       "    .dataframe tbody tr th {\n",
       "        vertical-align: top;\n",
       "    }\n",
       "</style>\n",
       "<table border=\"1\" class=\"dataframe\">\n",
       "  <thead>\n",
       "    <tr style=\"text-align: right;\">\n",
       "      <th></th>\n",
       "      <th>app_id</th>\n",
       "      <th>review</th>\n",
       "      <th>rating</th>\n",
       "    </tr>\n",
       "  </thead>\n",
       "  <tbody>\n",
       "    <tr>\n",
       "      <th>5960</th>\n",
       "      <td>좀 더 고급 단어들도 추가되면 좋겠습니다.</td>\n",
       "      <td>NaN</td>\n",
       "      <td>NaN</td>\n",
       "    </tr>\n",
       "    <tr>\n",
       "      <th>5961</th>\n",
       "      <td>그리고 검색 화면에서는 가능한 링크 기능이 플래시 카드상에서는 안되는 부분도 개선되...</td>\n",
       "      <td>NaN</td>\n",
       "      <td>NaN</td>\n",
       "    </tr>\n",
       "    <tr>\n",
       "      <th>8194</th>\n",
       "      <td>하지만 와이파이 아주 잘 잡히는 환경에서만 사용 가능할듯. 너무느림ㅠㅠ,.. 최대의...</td>\n",
       "      <td>NaN</td>\n",
       "      <td>NaN</td>\n",
       "    </tr>\n",
       "    <tr>\n",
       "      <th>8195</th>\n",
       "      <td>아직 반도 못봤다.. 언제쯤 바로크 넘어가려나:)</td>\n",
       "      <td>NaN</td>\n",
       "      <td>NaN</td>\n",
       "    </tr>\n",
       "    <tr>\n",
       "      <th>12569</th>\n",
       "      <td>쉽고 재미있어요. 무료버전 다운받아 사용하다가 재미있어서 유료도 했는데,</td>\n",
       "      <td>NaN</td>\n",
       "      <td>NaN</td>\n",
       "    </tr>\n",
       "    <tr>\n",
       "      <th>12570</th>\n",
       "      <td>사진도 많고 당분간 지루하진 않을듯, 앞으로 더 많은 사집 업뎃 부탁합니다.</td>\n",
       "      <td>NaN</td>\n",
       "      <td>NaN</td>\n",
       "    </tr>\n",
       "    <tr>\n",
       "      <th>17455</th>\n",
       "      <td>아래분 처럼 2개 열심히 넣고 나니 프로그램이 튕겨버립니다.</td>\n",
       "      <td>NaN</td>\n",
       "      <td>NaN</td>\n",
       "    </tr>\n",
       "    <tr>\n",
       "      <th>17456</th>\n",
       "      <td>1달러.... 돈안까운건 그렇다치고, 정보입력하느라 삽질한 걸 생각하니 분하네요.</td>\n",
       "      <td>NaN</td>\n",
       "      <td>NaN</td>\n",
       "    </tr>\n",
       "    <tr>\n",
       "      <th>17457</th>\n",
       "      <td>버전업 되서 버그픽스 되기전까지는 절대로 구입하지 마세요.</td>\n",
       "      <td>NaN</td>\n",
       "      <td>NaN</td>\n",
       "    </tr>\n",
       "    <tr>\n",
       "      <th>17462</th>\n",
       "      <td>입력 다해놓고 잘못 됐다고 나오네요. 어서 수정을..</td>\n",
       "      <td>NaN</td>\n",
       "      <td>NaN</td>\n",
       "    </tr>\n",
       "    <tr>\n",
       "      <th>17463</th>\n",
       "      <td>비밀번호 변경도 안돼요 ㅠㅠ</td>\n",
       "      <td>NaN</td>\n",
       "      <td>NaN</td>\n",
       "    </tr>\n",
       "    <tr>\n",
       "      <th>17464</th>\n",
       "      <td>09/05/09 현재까지도 안됩니다. 사지 마세요.</td>\n",
       "      <td>NaN</td>\n",
       "      <td>NaN</td>\n",
       "    </tr>\n",
       "    <tr>\n",
       "      <th>17465</th>\n",
       "      <td>개발자야.. 장난하니??</td>\n",
       "      <td>NaN</td>\n",
       "      <td>NaN</td>\n",
       "    </tr>\n",
       "    <tr>\n",
       "      <th>17467</th>\n",
       "      <td>여기서 제가 어떻게 하는지를 몰라서 그런지</td>\n",
       "      <td>NaN</td>\n",
       "      <td>NaN</td>\n",
       "    </tr>\n",
       "    <tr>\n",
       "      <th>17468</th>\n",
       "      <td>그런것 같진 않고 견본화면 2페이지만 계속 보입니다</td>\n",
       "      <td>NaN</td>\n",
       "      <td>NaN</td>\n",
       "    </tr>\n",
       "    <tr>\n",
       "      <th>17469</th>\n",
       "      <td>해결방안을 모르겠습니다 !!!!!!!!!!!!!!!!!!!!!!!! 미ㅊ</td>\n",
       "      <td>NaN</td>\n",
       "      <td>NaN</td>\n",
       "    </tr>\n",
       "    <tr>\n",
       "      <th>17470</th>\n",
       "      <td>뭔짓을해도 화면이 안넘어가네..</td>\n",
       "      <td>NaN</td>\n",
       "      <td>NaN</td>\n",
       "    </tr>\n",
       "    <tr>\n",
       "      <th>17471</th>\n",
       "      <td>내가 견본화면을 볼라고 이걸 돈주고 샀나?</td>\n",
       "      <td>NaN</td>\n",
       "      <td>NaN</td>\n",
       "    </tr>\n",
       "    <tr>\n",
       "      <th>17472</th>\n",
       "      <td>환장하겠네 진짜..개발자는 빠른 수정을 요한다!</td>\n",
       "      <td>NaN</td>\n",
       "      <td>NaN</td>\n",
       "    </tr>\n",
       "    <tr>\n",
       "      <th>17474</th>\n",
       "      <td>보안카드를 2개 째 입력 한 후 부터는 프로그램 진입 시 비밀번호를 입력하면 무조건...</td>\n",
       "      <td>NaN</td>\n",
       "      <td>NaN</td>\n",
       "    </tr>\n",
       "    <tr>\n",
       "      <th>17475</th>\n",
       "      <td>저만 그런지는 모르겠으나, 현재 관련 프로그램이 다른것이 하나 더 있는걸로 알고 있...</td>\n",
       "      <td>NaN</td>\n",
       "      <td>NaN</td>\n",
       "    </tr>\n",
       "    <tr>\n",
       "      <th>17476</th>\n",
       "      <td>본 프로그램이 입력 시 숫자 패드를 이용해서 빠른 점과 코드표를 직관적으로 확인하며...</td>\n",
       "      <td>NaN</td>\n",
       "      <td>NaN</td>\n",
       "    </tr>\n",
       "    <tr>\n",
       "      <th>17477</th>\n",
       "      <td>본 프로그램을 사용하려고 하는데 상기 적은 치명적 버그로 인해 사용 할래야 할 수가...</td>\n",
       "      <td>NaN</td>\n",
       "      <td>NaN</td>\n",
       "    </tr>\n",
       "    <tr>\n",
       "      <th>21615</th>\n",
       "      <td>But there are sounds interruption due to speak...</td>\n",
       "      <td>NaN</td>\n",
       "      <td>NaN</td>\n",
       "    </tr>\n",
       "    <tr>\n",
       "      <th>21616</th>\n",
       "      <td>I hope to have let's say car kit which make it...</td>\n",
       "      <td>NaN</td>\n",
       "      <td>NaN</td>\n",
       "    </tr>\n",
       "    <tr>\n",
       "      <th>21617</th>\n",
       "      <td>App on the iphone, it would be good, if you ca...</td>\n",
       "      <td>NaN</td>\n",
       "      <td>NaN</td>\n",
       "    </tr>\n",
       "    <tr>\n",
       "      <th>21619</th>\n",
       "      <td>Plz update this function!</td>\n",
       "      <td>NaN</td>\n",
       "      <td>NaN</td>\n",
       "    </tr>\n",
       "    <tr>\n",
       "      <th>38068</th>\n",
       "      <td>왜 스티커같은 모향있자나여..</td>\n",
       "      <td>NaN</td>\n",
       "      <td>NaN</td>\n",
       "    </tr>\n",
       "    <tr>\n",
       "      <th>38069</th>\n",
       "      <td>그거 왜 안되요ㅠㅠ?</td>\n",
       "      <td>NaN</td>\n",
       "      <td>NaN</td>\n",
       "    </tr>\n",
       "    <tr>\n",
       "      <th>38070</th>\n",
       "      <td>뭐지 어케 하는걸까..</td>\n",
       "      <td>NaN</td>\n",
       "      <td>NaN</td>\n",
       "    </tr>\n",
       "    <tr>\n",
       "      <th>...</th>\n",
       "      <td>...</td>\n",
       "      <td>...</td>\n",
       "      <td>...</td>\n",
       "    </tr>\n",
       "    <tr>\n",
       "      <th>586853</th>\n",
       "      <td>하지만 한글인식은 않되네요. 하지만 명함에서 숫자와 이메일은 100% 인식이되니 이...</td>\n",
       "      <td>NaN</td>\n",
       "      <td>NaN</td>\n",
       "    </tr>\n",
       "    <tr>\n",
       "      <th>586854</th>\n",
       "      <td>비 알파벳 언어도 빨리 지원이 되면 좋겠네요.</td>\n",
       "      <td>NaN</td>\n",
       "      <td>NaN</td>\n",
       "    </tr>\n",
       "    <tr>\n",
       "      <th>588613</th>\n",
       "      <td>뭐 그건 그렇고 .. 저의 경우는 너무 자주 다운되는군요.</td>\n",
       "      <td>NaN</td>\n",
       "      <td>NaN</td>\n",
       "    </tr>\n",
       "    <tr>\n",
       "      <th>588614</th>\n",
       "      <td>다른분도 그러세요? 왜그런걸까; 너무자주 다운됩니다. 해서 버그리포팅을 했더니</td>\n",
       "      <td>NaN</td>\n",
       "      <td>NaN</td>\n",
       "    </tr>\n",
       "    <tr>\n",
       "      <th>588615</th>\n",
       "      <td>답변이 왔더군요. 우선 프로그램을 새로 깐뒤에는 리붓해보는게 좋다.</td>\n",
       "      <td>NaN</td>\n",
       "      <td>NaN</td>\n",
       "    </tr>\n",
       "    <tr>\n",
       "      <th>588616</th>\n",
       "      <td>그리고 가능한 백그라운드 프로그램은 돌리지 않는것이 안정적이다.. 라고 왔습니다.</td>\n",
       "      <td>NaN</td>\n",
       "      <td>NaN</td>\n",
       "    </tr>\n",
       "    <tr>\n",
       "      <th>588617</th>\n",
       "      <td>(물론 아이팟 자체 OS 버전도 업하는것이 안정적이다... 라고)</td>\n",
       "      <td>NaN</td>\n",
       "      <td>NaN</td>\n",
       "    </tr>\n",
       "    <tr>\n",
       "      <th>588618</th>\n",
       "      <td>좀더 써버고 계속 그러는지 지켜봐야할듯하군요.</td>\n",
       "      <td>NaN</td>\n",
       "      <td>NaN</td>\n",
       "    </tr>\n",
       "    <tr>\n",
       "      <th>588620</th>\n",
       "      <td>자산까지는 무리인 듯하지만 수입은 지원해 주시면 좋겠네요</td>\n",
       "      <td>NaN</td>\n",
       "      <td>NaN</td>\n",
       "    </tr>\n",
       "    <tr>\n",
       "      <th>588623</th>\n",
       "      <td>아래에 나오는 문제들 다 해결된 거 같군요. ㅋ</td>\n",
       "      <td>NaN</td>\n",
       "      <td>NaN</td>\n",
       "    </tr>\n",
       "    <tr>\n",
       "      <th>588625</th>\n",
       "      <td>가계부 쓰기에 꽤 중독됨.ㅋ</td>\n",
       "      <td>NaN</td>\n",
       "      <td>NaN</td>\n",
       "    </tr>\n",
       "    <tr>\n",
       "      <th>588631</th>\n",
       "      <td>영어로만 작성했다해다 ipod의 지역코드도 영어권으로 바꿔줘야 하는 듯 하군요.</td>\n",
       "      <td>NaN</td>\n",
       "      <td>NaN</td>\n",
       "    </tr>\n",
       "    <tr>\n",
       "      <th>588632</th>\n",
       "      <td>현재로써는 업데이트가 필요합니다.</td>\n",
       "      <td>NaN</td>\n",
       "      <td>NaN</td>\n",
       "    </tr>\n",
       "    <tr>\n",
       "      <th>600342</th>\n",
       "      <td>541 꽃이 피는 봄날에는</td>\n",
       "      <td>NaN</td>\n",
       "      <td>NaN</td>\n",
       "    </tr>\n",
       "    <tr>\n",
       "      <th>600343</th>\n",
       "      <td>542 구주 예수 의지함이</td>\n",
       "      <td>NaN</td>\n",
       "      <td>NaN</td>\n",
       "    </tr>\n",
       "    <tr>\n",
       "      <th>600344</th>\n",
       "      <td>543 어려운 일 당할 때</td>\n",
       "      <td>NaN</td>\n",
       "      <td>NaN</td>\n",
       "    </tr>\n",
       "    <tr>\n",
       "      <th>607307</th>\n",
       "      <td>한글이라든지 자동 가로보기 등이 아쉽지만, 이 가격에는 이 정도인듯..</td>\n",
       "      <td>NaN</td>\n",
       "      <td>NaN</td>\n",
       "    </tr>\n",
       "    <tr>\n",
       "      <th>609692</th>\n",
       "      <td>싸구려 가이드북에나 있는 그런 뻔한 내용들로 가득합니다.</td>\n",
       "      <td>NaN</td>\n",
       "      <td>NaN</td>\n",
       "    </tr>\n",
       "    <tr>\n",
       "      <th>609693</th>\n",
       "      <td>여행하면서 쓸만한 회화 내용도 거의 없습니다.</td>\n",
       "      <td>NaN</td>\n",
       "      <td>NaN</td>\n",
       "    </tr>\n",
       "    <tr>\n",
       "      <th>609694</th>\n",
       "      <td>여행중 도저히 쓰일것 같지 않은 쓰잘데기 없는 문장만 몇개 있습니다. 돈 아까워 계...</td>\n",
       "      <td>NaN</td>\n",
       "      <td>NaN</td>\n",
       "    </tr>\n",
       "    <tr>\n",
       "      <th>609695</th>\n",
       "      <td>일본여행 하면서 상황에 맞는 필요한 문장을 찿아볼려고 구입을 고려한다면 절대 구입하...</td>\n",
       "      <td>NaN</td>\n",
       "      <td>NaN</td>\n",
       "    </tr>\n",
       "    <tr>\n",
       "      <th>609699</th>\n",
       "      <td>하지만, 아무리 공부를 해도 일어는 늘지 않고... 자신도 없고 그냥 포기할까도 해...</td>\n",
       "      <td>NaN</td>\n",
       "      <td>NaN</td>\n",
       "    </tr>\n",
       "    <tr>\n",
       "      <th>609700</th>\n",
       "      <td>이 어플을 산 후론...ㅋ 일본여행을 다시 꿈꾸고 있죠.ㅋㅋㅋ</td>\n",
       "      <td>NaN</td>\n",
       "      <td>NaN</td>\n",
       "    </tr>\n",
       "    <tr>\n",
       "      <th>609701</th>\n",
       "      <td>아주 기초적인 것부터 기본적인 회화까지... 초보자도 당당히 혼자 여행할 수 있을 ...</td>\n",
       "      <td>NaN</td>\n",
       "      <td>NaN</td>\n",
       "    </tr>\n",
       "    <tr>\n",
       "      <th>609702</th>\n",
       "      <td>음성 지원도 되고요~ 날씨도 풀렸고~ 열심히 돈 모아서 일본여행 꼭 해볼랍니당.</td>\n",
       "      <td>NaN</td>\n",
       "      <td>NaN</td>\n",
       "    </tr>\n",
       "    <tr>\n",
       "      <th>609703</th>\n",
       "      <td>저와 같은 꿈을 가진 분께~ 강추! 강추!! 강추!!!~~~~하고파~~~</td>\n",
       "      <td>NaN</td>\n",
       "      <td>NaN</td>\n",
       "    </tr>\n",
       "    <tr>\n",
       "      <th>611532</th>\n",
       "      <td>한가지 zip file중에서 못 읽어 드리는 file이 있는데 어떻게 해야 되나요..</td>\n",
       "      <td>NaN</td>\n",
       "      <td>NaN</td>\n",
       "    </tr>\n",
       "    <tr>\n",
       "      <th>611533</th>\n",
       "      <td>Zip version이 낮아서 그러는지...</td>\n",
       "      <td>NaN</td>\n",
       "      <td>NaN</td>\n",
       "    </tr>\n",
       "    <tr>\n",
       "      <th>611587</th>\n",
       "      <td>It can see JPG file inside of ZIP archive. UI ...</td>\n",
       "      <td>NaN</td>\n",
       "      <td>NaN</td>\n",
       "    </tr>\n",
       "    <tr>\n",
       "      <th>611615</th>\n",
       "      <td>만화 리스트에서 가로로 해서 플레이하면 가로보기 지원됩니다.</td>\n",
       "      <td>NaN</td>\n",
       "      <td>NaN</td>\n",
       "    </tr>\n",
       "  </tbody>\n",
       "</table>\n",
       "<p>420 rows × 3 columns</p>\n",
       "</div>"
      ],
      "text/plain": [
       "                                                   app_id review rating\n",
       "5960                              좀 더 고급 단어들도 추가되면 좋겠습니다.    NaN    NaN\n",
       "5961    그리고 검색 화면에서는 가능한 링크 기능이 플래시 카드상에서는 안되는 부분도 개선되...    NaN    NaN\n",
       "8194    하지만 와이파이 아주 잘 잡히는 환경에서만 사용 가능할듯. 너무느림ㅠㅠ,.. 최대의...    NaN    NaN\n",
       "8195                          아직 반도 못봤다.. 언제쯤 바로크 넘어가려나:)    NaN    NaN\n",
       "12569            쉽고 재미있어요. 무료버전 다운받아 사용하다가 재미있어서 유료도 했는데,    NaN    NaN\n",
       "12570          사진도 많고 당분간 지루하진 않을듯, 앞으로 더 많은 사집 업뎃 부탁합니다.    NaN    NaN\n",
       "17455                   아래분 처럼 2개 열심히 넣고 나니 프로그램이 튕겨버립니다.    NaN    NaN\n",
       "17456       1달러.... 돈안까운건 그렇다치고, 정보입력하느라 삽질한 걸 생각하니 분하네요.    NaN    NaN\n",
       "17457                    버전업 되서 버그픽스 되기전까지는 절대로 구입하지 마세요.    NaN    NaN\n",
       "17462                       입력 다해놓고 잘못 됐다고 나오네요. 어서 수정을..    NaN    NaN\n",
       "17463                                     비밀번호 변경도 안돼요 ㅠㅠ    NaN    NaN\n",
       "17464                        09/05/09 현재까지도 안됩니다. 사지 마세요.    NaN    NaN\n",
       "17465                                       개발자야.. 장난하니??    NaN    NaN\n",
       "17467                             여기서 제가 어떻게 하는지를 몰라서 그런지    NaN    NaN\n",
       "17468                        그런것 같진 않고 견본화면 2페이지만 계속 보입니다    NaN    NaN\n",
       "17469            해결방안을 모르겠습니다 !!!!!!!!!!!!!!!!!!!!!!!! 미ㅊ    NaN    NaN\n",
       "17470                                   뭔짓을해도 화면이 안넘어가네..    NaN    NaN\n",
       "17471                             내가 견본화면을 볼라고 이걸 돈주고 샀나?    NaN    NaN\n",
       "17472                          환장하겠네 진짜..개발자는 빠른 수정을 요한다!    NaN    NaN\n",
       "17474   보안카드를 2개 째 입력 한 후 부터는 프로그램 진입 시 비밀번호를 입력하면 무조건...    NaN    NaN\n",
       "17475   저만 그런지는 모르겠으나, 현재 관련 프로그램이 다른것이 하나 더 있는걸로 알고 있...    NaN    NaN\n",
       "17476   본 프로그램이 입력 시 숫자 패드를 이용해서 빠른 점과 코드표를 직관적으로 확인하며...    NaN    NaN\n",
       "17477   본 프로그램을 사용하려고 하는데 상기 적은 치명적 버그로 인해 사용 할래야 할 수가...    NaN    NaN\n",
       "21615   But there are sounds interruption due to speak...    NaN    NaN\n",
       "21616   I hope to have let's say car kit which make it...    NaN    NaN\n",
       "21617   App on the iphone, it would be good, if you ca...    NaN    NaN\n",
       "21619                           Plz update this function!    NaN    NaN\n",
       "38068                                    왜 스티커같은 모향있자나여..    NaN    NaN\n",
       "38069                                         그거 왜 안되요ㅠㅠ?    NaN    NaN\n",
       "38070                                        뭐지 어케 하는걸까..    NaN    NaN\n",
       "...                                                   ...    ...    ...\n",
       "586853  하지만 한글인식은 않되네요. 하지만 명함에서 숫자와 이메일은 100% 인식이되니 이...    NaN    NaN\n",
       "586854                          비 알파벳 언어도 빨리 지원이 되면 좋겠네요.    NaN    NaN\n",
       "588613                  뭐 그건 그렇고 .. 저의 경우는 너무 자주 다운되는군요.     NaN    NaN\n",
       "588614        다른분도 그러세요? 왜그런걸까; 너무자주 다운됩니다. 해서 버그리포팅을 했더니    NaN    NaN\n",
       "588615              답변이 왔더군요. 우선 프로그램을 새로 깐뒤에는 리붓해보는게 좋다.    NaN    NaN\n",
       "588616      그리고 가능한 백그라운드 프로그램은 돌리지 않는것이 안정적이다.. 라고 왔습니다.    NaN    NaN\n",
       "588617               (물론 아이팟 자체 OS 버전도 업하는것이 안정적이다... 라고)    NaN    NaN\n",
       "588618                          좀더 써버고 계속 그러는지 지켜봐야할듯하군요.    NaN    NaN\n",
       "588620                    자산까지는 무리인 듯하지만 수입은 지원해 주시면 좋겠네요    NaN    NaN\n",
       "588623                         아래에 나오는 문제들 다 해결된 거 같군요. ㅋ    NaN    NaN\n",
       "588625                                    가계부 쓰기에 꽤 중독됨.ㅋ    NaN    NaN\n",
       "588631       영어로만 작성했다해다 ipod의 지역코드도 영어권으로 바꿔줘야 하는 듯 하군요.    NaN    NaN\n",
       "588632                                 현재로써는 업데이트가 필요합니다.    NaN    NaN\n",
       "600342                                     541 꽃이 피는 봄날에는    NaN    NaN\n",
       "600343                                     542 구주 예수 의지함이    NaN    NaN\n",
       "600344                                     543 어려운 일 당할 때    NaN    NaN\n",
       "607307            한글이라든지 자동 가로보기 등이 아쉽지만, 이 가격에는 이 정도인듯..    NaN    NaN\n",
       "609692                    싸구려 가이드북에나 있는 그런 뻔한 내용들로 가득합니다.    NaN    NaN\n",
       "609693                          여행하면서 쓸만한 회화 내용도 거의 없습니다.    NaN    NaN\n",
       "609694  여행중 도저히 쓰일것 같지 않은 쓰잘데기 없는 문장만 몇개 있습니다. 돈 아까워 계...    NaN    NaN\n",
       "609695  일본여행 하면서 상황에 맞는 필요한 문장을 찿아볼려고 구입을 고려한다면 절대 구입하...    NaN    NaN\n",
       "609699  하지만, 아무리 공부를 해도 일어는 늘지 않고... 자신도 없고 그냥 포기할까도 해...    NaN    NaN\n",
       "609700                 이 어플을 산 후론...ㅋ 일본여행을 다시 꿈꾸고 있죠.ㅋㅋㅋ    NaN    NaN\n",
       "609701  아주 기초적인 것부터 기본적인 회화까지... 초보자도 당당히 혼자 여행할 수 있을 ...    NaN    NaN\n",
       "609702       음성 지원도 되고요~ 날씨도 풀렸고~ 열심히 돈 모아서 일본여행 꼭 해볼랍니당.    NaN    NaN\n",
       "609703           저와 같은 꿈을 가진 분께~ 강추! 강추!! 강추!!!~~~~하고파~~~    NaN    NaN\n",
       "611532    한가지 zip file중에서 못 읽어 드리는 file이 있는데 어떻게 해야 되나요..    NaN    NaN\n",
       "611533                           Zip version이 낮아서 그러는지...    NaN    NaN\n",
       "611587  It can see JPG file inside of ZIP archive. UI ...    NaN    NaN\n",
       "611615                  만화 리스트에서 가로로 해서 플레이하면 가로보기 지원됩니다.    NaN    NaN\n",
       "\n",
       "[420 rows x 3 columns]"
      ]
     },
     "execution_count": 55,
     "metadata": {},
     "output_type": "execute_result"
    }
   ],
   "source": [
    "docs.loc[docs.iloc[:, 0].str.len() > 10, :]"
   ]
  },
  {
   "cell_type": "code",
   "execution_count": 66,
   "metadata": {
    "collapsed": true
   },
   "outputs": [],
   "source": [
    "mask = ~(docs.iloc[:, 1] == 'NaN')"
   ]
  },
  {
   "cell_type": "code",
   "execution_count": 72,
   "metadata": {
    "collapsed": false,
    "scrolled": true
   },
   "outputs": [],
   "source": [
    "docs = docs.loc[mask, :]"
   ]
  },
  {
   "cell_type": "code",
   "execution_count": 79,
   "metadata": {
    "collapsed": true
   },
   "outputs": [],
   "source": [
    "mask2 = ~(docs.iloc[:, 1] == 'None')"
   ]
  },
  {
   "cell_type": "code",
   "execution_count": 80,
   "metadata": {
    "collapsed": false
   },
   "outputs": [],
   "source": [
    "docs = docs.loc[mask2, :]"
   ]
  },
  {
   "cell_type": "code",
   "execution_count": 84,
   "metadata": {
    "collapsed": false
   },
   "outputs": [
    {
     "data": {
      "text/html": [
       "<div>\n",
       "<style>\n",
       "    .dataframe thead tr:only-child th {\n",
       "        text-align: right;\n",
       "    }\n",
       "\n",
       "    .dataframe thead th {\n",
       "        text-align: left;\n",
       "    }\n",
       "\n",
       "    .dataframe tbody tr th {\n",
       "        vertical-align: top;\n",
       "    }\n",
       "</style>\n",
       "<table border=\"1\" class=\"dataframe\">\n",
       "  <thead>\n",
       "    <tr style=\"text-align: right;\">\n",
       "      <th></th>\n",
       "      <th>app_id</th>\n",
       "      <th>review</th>\n",
       "      <th>rating</th>\n",
       "    </tr>\n",
       "  </thead>\n",
       "  <tbody>\n",
       "  </tbody>\n",
       "</table>\n",
       "</div>"
      ],
      "text/plain": [
       "Empty DataFrame\n",
       "Columns: [app_id, review, rating]\n",
       "Index: []"
      ]
     },
     "execution_count": 84,
     "metadata": {},
     "output_type": "execute_result"
    }
   ],
   "source": [
    "docs.loc[docs.iloc[:, 0].str.len() > 10, :]"
   ]
  },
  {
   "cell_type": "markdown",
   "metadata": {},
   "source": [
    "## train, test split"
   ]
  },
  {
   "cell_type": "code",
   "execution_count": 87,
   "metadata": {
    "collapsed": false
   },
   "outputs": [],
   "source": [
    "id_list = docs.loc[:, 'app_id'].unique()"
   ]
  },
  {
   "cell_type": "code",
   "execution_count": null,
   "metadata": {
    "collapsed": true
   },
   "outputs": [],
   "source": [
    "id_list = docs.loc[:, 'app_id'].unique()\n",
    "train_idx = int(len(id_list) * 0.8)\n",
    "train_app_id = id_list[train_idx]\n",
    "train_data_idx = docs.app_id[docs.app_id.isin([train_app_id])].index[-1]\n",
    "train_data = docs.iloc[:train_data_idx, :]\n",
    "test_data = docs.iloc[train_data_idx:, :]\n",
    "len(train_data), len(test_data)"
   ]
  },
  {
   "cell_type": "markdown",
   "metadata": {},
   "source": [
    "change to tsv"
   ]
  },
  {
   "cell_type": "code",
   "execution_count": 97,
   "metadata": {
    "collapsed": true
   },
   "outputs": [],
   "source": [
    "train_data.to_csv('./data/train_docs.txt', sep='\\t', index=False)\n",
    "test_data.to_csv('./data/test_docs.txt', sep='\\t', index=False)"
   ]
  },
  {
   "cell_type": "markdown",
   "metadata": {
    "collapsed": true
   },
   "source": [
    "---"
   ]
  },
  {
   "cell_type": "markdown",
   "metadata": {},
   "source": [
    "save_to_json 은 py 파일 참고"
   ]
  }
 ],
 "metadata": {
  "kernelspec": {
   "display_name": "Python [default]",
   "language": "python",
   "name": "python3"
  },
  "language_info": {
   "codemirror_mode": {
    "name": "ipython",
    "version": 3
   },
   "file_extension": ".py",
   "mimetype": "text/x-python",
   "name": "python",
   "nbconvert_exporter": "python",
   "pygments_lexer": "ipython3",
   "version": "3.6.0"
  }
 },
 "nbformat": 4,
 "nbformat_minor": 2
}
