{
 "cells": [
  {
   "cell_type": "markdown",
   "metadata": {},
   "source": [
    "### 데이터 불러오기"
   ]
  },
  {
   "cell_type": "code",
   "execution_count": 1,
   "metadata": {
    "collapsed": false
   },
   "outputs": [],
   "source": [
    "from collections import Counter, defaultdict\n",
    "from konlpy.tag import Mecab, Komoran\n",
    "from utils import *\n",
    "mecab = Mecab()\n",
    "komoran = Komoran()\n",
    "file_path = './data/train_jsonl_ma_komoran.txt'"
   ]
  },
  {
   "cell_type": "code",
   "execution_count": 2,
   "metadata": {
    "collapsed": false
   },
   "outputs": [
    {
     "name": "stderr",
     "output_type": "stream",
     "text": [
      "Reading documents: 100%|██████████| 2984/2984 [00:13<00:00, 227.80it/s]\n"
     ]
    }
   ],
   "source": [
    "app_id_list, ratings_lists, ma_lists = read_jsonl(file_path)"
   ]
  },
  {
   "cell_type": "markdown",
   "metadata": {},
   "source": [
    "사전 만들기"
   ]
  },
  {
   "cell_type": "code",
   "execution_count": 3,
   "metadata": {
    "collapsed": true
   },
   "outputs": [],
   "source": [
    "major_pos = [\"NNG\", \"NNP\", \"NP\", \"XR\", \"VV\", \"VA\", \"MAG\", \"MAJ\"]"
   ]
  },
  {
   "cell_type": "code",
   "execution_count": 4,
   "metadata": {
    "collapsed": true
   },
   "outputs": [],
   "source": [
    "full_morph = ['NNG','NNP','NNB','NR','NP','VV','VA','VX','VCP','VCN','MM','MAG','MAJ','IC']\n",
    "empty_morph = ['JKS','JKC','JKG','JKO','JKB','JKV','JKQ','JX','JC','EP'\n",
    "               'EF','EC','ETN','ETM','XPN','XSN','XSV','XSA']\n",
    "egun = ['XR']\n",
    "signs = ['SF','SE','SS','SP','SO','SW']\n",
    "not_koreans = ['SL','SH','SN']"
   ]
  },
  {
   "cell_type": "code",
   "execution_count": 4,
   "metadata": {
    "collapsed": true
   },
   "outputs": [],
   "source": [
    "make_dict = Make_dictionay()"
   ]
  },
  {
   "cell_type": "markdown",
   "metadata": {},
   "source": [
    "주요 품사별로 뽑으면 이렇게 된다"
   ]
  },
  {
   "cell_type": "code",
   "execution_count": 5,
   "metadata": {
    "collapsed": false
   },
   "outputs": [
    {
     "name": "stderr",
     "output_type": "stream",
     "text": [
      "Processing: 100%|██████████| 2984/2984 [00:12<00:00, 244.13it/s]\n"
     ]
    }
   ],
   "source": [
    "make_dict.fit(ma_lists, choose_pos=major_pos, normal_dict_option=1)"
   ]
  },
  {
   "cell_type": "code",
   "execution_count": 6,
   "metadata": {
    "collapsed": false,
    "scrolled": true
   },
   "outputs": [
    {
     "data": {
      "text/plain": [
       "[('좋다/VA', 122849),\n",
       " ('하다/VV', 116730),\n",
       " ('있다/VV', 78138),\n",
       " ('삭제/NNG', 67567),\n",
       " ('쓰다/VV', 64838),\n",
       " ('되다/VV', 62343),\n",
       " ('구매/NNG', 57831),\n",
       " ('안/NNG', 56520),\n",
       " ('어플/NNP', 56208),\n",
       " ('앱/NNP', 55219)]"
      ]
     },
     "execution_count": 6,
     "metadata": {},
     "output_type": "execute_result"
    }
   ],
   "source": [
    "make_dict.word_count.most_common(10)"
   ]
  },
  {
   "cell_type": "markdown",
   "metadata": {},
   "source": [
    "## 어휘 Searching"
   ]
  },
  {
   "cell_type": "code",
   "execution_count": 42,
   "metadata": {
    "collapsed": true
   },
   "outputs": [],
   "source": [
    "from operator import itemgetter\n",
    "# sort 방법\n",
    "def sord_dict(query, reverse, word_count):\n",
    "    \"\"\"\n",
    "    query:\n",
    "     - 0: 숫자, 영어, 가나다 순\n",
    "     - 1: count 순\n",
    "    \"\"\"\n",
    "    morph_counts = [(w, c) for w, c in word_count.items()]\n",
    "    if isinstance(query, list):\n",
    "        for q, r in zip(query, reverse):\n",
    "            morph_counts = sorted(morph_counts, key=itemgetter(q), reverse=r)\n",
    "    else:\n",
    "        morph_counts = sorted(morph_counts, key=itemgetter(query), reverse=reverse)\n",
    "    return morph_counts"
   ]
  },
  {
   "cell_type": "code",
   "execution_count": 48,
   "metadata": {
    "collapsed": false
   },
   "outputs": [
    {
     "data": {
      "text/plain": [
       "[('힝/MAG', 65),\n",
       " ('힙합/NNG', 8),\n",
       " ('힙합 음악/NNP', 1),\n",
       " ('힙스터/NNP', 2),\n",
       " ('힙/NNP', 29),\n",
       " ('힘찬/NNP', 1),\n",
       " ('힘차다/VA', 7),\n",
       " ('힘줄/NNG', 1),\n",
       " ('힘주다/VV', 2),\n",
       " ('힘입다/VV', 3)]"
      ]
     },
     "execution_count": 48,
     "metadata": {},
     "output_type": "execute_result"
    }
   ],
   "source": [
    "sord_dict([1, 0], [True, True], make_dict.word_count)[:10]"
   ]
  },
  {
   "cell_type": "markdown",
   "metadata": {},
   "source": [
    "## 어휘 시각화"
   ]
  },
  {
   "cell_type": "code",
   "execution_count": 10,
   "metadata": {
    "collapsed": true
   },
   "outputs": [],
   "source": [
    "def draw_zipian(word_count):\n",
    "    counts = sorted(word_count.values(), reverse=True)\n",
    "    plt.figure(figsize=(8, 8), dpi=80)\n",
    "    plt.plot(counts, color='blue', marker='o')\n",
    "    plt.title(\"Zip's Curve\", fontsize=20)\n",
    "    plt.xscale('log')\n",
    "    plt.yscale('log')\n",
    "    plt.xlabel('log(Rank)')\n",
    "    plt.ylabel('log(Frequency)')\n",
    "    plt.show()"
   ]
  },
  {
   "cell_type": "code",
   "execution_count": 11,
   "metadata": {
    "collapsed": false
   },
   "outputs": [
    {
     "data": {
      "image/png": "[encoded data removed]",
      "text/plain": [
       "<matplotlib.figure.Figure at 0x1dc075940>"
      ]
     },
     "metadata": {},
     "output_type": "display_data"
    }
   ],
   "source": [
    "draw_zipian(make_dict.word_count)"
   ]
  },
  {
   "cell_type": "markdown",
   "metadata": {},
   "source": [
    "## Word Cloud"
   ]
  },
  {
   "cell_type": "code",
   "execution_count": 7,
   "metadata": {
    "collapsed": false
   },
   "outputs": [
    {
     "data": {
      "image/png": "[encoded data removed]",
      "text/plain": [
       "<matplotlib.figure.Figure at 0x1e7e3e3c8>"
      ]
     },
     "metadata": {},
     "output_type": "display_data"
    }
   ],
   "source": [
    "import sys\n",
    "import wordcloud\n",
    "import numpy as np\n",
    "import matplotlib.pyplot as plt\n",
    "from PIL import Image\n",
    "\n",
    "def read_mask(mask_file_name):\n",
    "    \"\"\"주어진 이름의 파일에서 마스킹 이미지 데이터를 읽어서 돌려준다.\"\"\"\n",
    "    mask = np.array(Image.open(mask_file_name))\n",
    "    \n",
    "    return mask\n",
    "\n",
    "def draw_word_clouds(word_count, mask):    \n",
    "    font_path = get_font_path()\n",
    "    cloud = build_cloud(word_count, font_path, mask)\n",
    "    show_cloud(cloud, mask)\n",
    "    \n",
    "def get_font_path():\n",
    "    \"\"\"플랫폼에 따라 글꼴 경로를 설정한다.\"\"\"\n",
    "\n",
    "    if sys.platform == \"win32\" or sys.platform == \"win64\":\n",
    "        font_path = \"C:/Windows/Fonts/malgun.ttf\"\n",
    "    elif sys.platform == \"darwin\":\n",
    "        font_path = \"/Library/Fonts/AppleGothic.ttf\"\n",
    "        \n",
    "    return font_path\n",
    "\n",
    "def build_cloud(word_count, font_path, mask):\n",
    "    \"\"\"주어진 어휘 계수 결과와 글꼴 경로를 이용하여 워드 클라우드를 생성하여 돌려준다.\"\"\"\n",
    "    NUM_WORDS = 200\n",
    "    cloud_gen = wordcloud.WordCloud(background_color=\"white\",\n",
    "                                    font_path=font_path, max_words=NUM_WORDS,\n",
    "                                    mask=mask, collocations=False)\n",
    "    cloud = cloud_gen.generate_from_frequencies(word_count)\n",
    "\n",
    "    return cloud\n",
    "\n",
    "def show_cloud(cloud, mask):\n",
    "    \"\"\"워드 클라우드를 화면에 표시한다.\"\"\"\n",
    "    \n",
    "    plt.imshow(cloud, interpolation=\"bilinear\")\n",
    "    plt.axis(\"off\")\n",
    "    plt.show()\n",
    "    \n",
    "def main(word_counts):\n",
    "    \n",
    "    mask_file_name = \"./figs/bust.png\"\n",
    "    mask = read_mask(mask_file_name)\n",
    "    word_count = Counter({l: c for l, c in word_counts.items()})\n",
    "    draw_word_clouds(word_count, mask)\n",
    "\n",
    "main(make_dict.word_count)"
   ]
  },
  {
   "cell_type": "markdown",
   "metadata": {},
   "source": [
    "## 키워드 추출"
   ]
  },
  {
   "cell_type": "markdown",
   "metadata": {},
   "source": [
    "### TD-IDF"
   ]
  },
  {
   "cell_type": "code",
   "execution_count": 6,
   "metadata": {
    "collapsed": false
   },
   "outputs": [
    {
     "name": "stderr",
     "output_type": "stream",
     "text": [
      "Processing: 100%|██████████| 2984/2984 [00:08<00:00, 346.37it/s]\n"
     ]
    }
   ],
   "source": [
    "filtered_docs = make_dict.document_transform(ma_lists)"
   ]
  },
  {
   "cell_type": "code",
   "execution_count": 7,
   "metadata": {
    "collapsed": false
   },
   "outputs": [
    {
     "name": "stderr",
     "output_type": "stream",
     "text": [
      "Processing: 100%|██████████| 2984/2984 [00:00<00:00, 55761.11it/s]\n"
     ]
    }
   ],
   "source": [
    "flat_docs = make_dict.flatten_all_docs(filtered_docs)"
   ]
  },
  {
   "cell_type": "code",
   "execution_count": 8,
   "metadata": {
    "collapsed": false
   },
   "outputs": [
    {
     "name": "stderr",
     "output_type": "stream",
     "text": [
      "saving: 100%|██████████| 429343/429343 [00:01<00:00, 389498.79it/s]\n"
     ]
    }
   ],
   "source": [
    "make_dict.save_as_file('flat_docs', flat_docs)"
   ]
  },
  {
   "cell_type": "markdown",
   "metadata": {},
   "source": [
    "tf-idf는 왜 해야하나?\n",
    "\n",
    "* 문서에서 단어가 여러군데에서 빈출하면 문서의 특징을 나타내지 못함"
   ]
  },
  {
   "cell_type": "code",
   "execution_count": 49,
   "metadata": {
    "collapsed": true
   },
   "outputs": [],
   "source": [
    "from sklearn.feature_extraction.text import TfidfVectorizer"
   ]
  },
  {
   "cell_type": "markdown",
   "metadata": {},
   "source": [
    "TfidfVectorizer를 쓰려면 약간의 변형이 필요하다."
   ]
  },
  {
   "cell_type": "code",
   "execution_count": 50,
   "metadata": {
    "collapsed": true
   },
   "outputs": [],
   "source": [
    "flat_docs = make_dict.load_file('./data/flat_docs.txt', option_split=False)"
   ]
  },
  {
   "cell_type": "code",
   "execution_count": 51,
   "metadata": {
    "collapsed": false
   },
   "outputs": [
    {
     "data": {
      "text/plain": [
       "TfidfVectorizer(analyzer='word', binary=False, decode_error='strict',\n",
       "        dtype=<class 'numpy.int64'>, encoding='utf-8', input='content',\n",
       "        lowercase=True, max_df=1.0, max_features=None, min_df=1,\n",
       "        ngram_range=(1, 1), norm='l2', preprocessor=None, smooth_idf=True,\n",
       "        stop_words=None, strip_accents=None, sublinear_tf=False,\n",
       "        token_pattern='(?u)\\\\b\\\\w\\\\w+\\\\b', tokenizer=None, use_idf=True,\n",
       "        vocabulary={'맨날/MAG': 0, '보이다/VV': 1, '계속/MAG': 2, '돌아가다/VV': 3, '징그럽다/VA': 4, '진짜/MAG': 5, '잘/MAG': 6, '보다/VV': 7, '갑자기/MAG': 8, '없다/VA': 9, '이유/NNG': 10, '뭐/NP': 11, '해외/NNG': 12, '쓰다/VV': 13, '세기/NNG': 14, '경기/NNG': 15, '나오다/VV': 16, '물론/MAG': 17, '특별/XR': 18, '이벤트/NNG': 19, '있다/VV': 20, '이용자/NNG...': 33642, '전자우편/NNP': 33643, '타성/NNG': 33644, '구송/NNG': 33645, '런던/NNG': 33646, '5월 11일/NNP': 33647})"
      ]
     },
     "execution_count": 51,
     "metadata": {},
     "output_type": "execute_result"
    }
   ],
   "source": [
    "tfidf_vec = TfidfVectorizer(vocabulary=make_dict.word_idx)\n",
    "tfidf_vec.fit(flat_docs)"
   ]
  },
  {
   "cell_type": "code",
   "execution_count": 52,
   "metadata": {
    "collapsed": false
   },
   "outputs": [
    {
     "data": {
      "text/plain": [
       "(429343, 33648)"
      ]
     },
     "execution_count": 52,
     "metadata": {},
     "output_type": "execute_result"
    }
   ],
   "source": [
    "tf_idf_matrix = tfidf_vec.transform(flat_docs).toarray()\n",
    "tf_idf_matrix.shape"
   ]
  },
  {
   "cell_type": "markdown",
   "metadata": {},
   "source": [
    "제대로 계산 됐는지 확인해보자 ;;"
   ]
  },
  {
   "cell_type": "code",
   "execution_count": 54,
   "metadata": {
    "collapsed": false
   },
   "outputs": [
    {
     "name": "stderr",
     "output_type": "stream",
     "text": [
      "/Users/Soo/anaconda/lib/python3.6/site-packages/ipykernel/__main__.py:3: RuntimeWarning: invalid value encountered in double_scalars\n",
      "  app.launch_new_instance()\n"
     ]
    },
    {
     "data": {
      "text/plain": [
       "nan"
      ]
     },
     "execution_count": 54,
     "metadata": {},
     "output_type": "execute_result"
    }
   ],
   "source": [
    "d1 = tf_idf_matrix[10, :]\n",
    "d2 = tf_idf_matrix[69, :]\n",
    "np.dot(d1, d2) / np.linalg.norm(d1)*np.linalg.norm(d2)"
   ]
  },
  {
   "cell_type": "code",
   "execution_count": 55,
   "metadata": {
    "collapsed": false
   },
   "outputs": [
    {
     "data": {
      "text/plain": [
       "0.0"
      ]
     },
     "execution_count": 55,
     "metadata": {},
     "output_type": "execute_result"
    }
   ],
   "source": [
    "np.linalg.norm(d1)"
   ]
  },
  {
   "cell_type": "code",
   "execution_count": 23,
   "metadata": {
    "collapsed": false
   },
   "outputs": [
    {
     "data": {
      "text/plain": [
       "matrix([[ 0.73833501,  0.47298569,  0.4807764 ]])"
      ]
     },
     "execution_count": 23,
     "metadata": {},
     "output_type": "execute_result"
    }
   ],
   "source": [
    "def get_key_word(tfidf_vec):\n",
    "    "
   ]
  },
  {
   "cell_type": "markdown",
   "metadata": {},
   "source": [
    "## Navie Bayesian Classifier"
   ]
  },
  {
   "cell_type": "markdown",
   "metadata": {},
   "source": [
    "한 documentation으로 보면, Input A은 문장내에 단어들의 조합이다 $[a_1, a_2 ,\\cdots, a_n]$. B는 rating점수다. 각 rating점수에 대해서, \n",
    "\n",
    "$P(B|A) = \\frac{P(A|B)P(B)}{P(A)}$가 성립하는데, $P(B)$는 사전 확률로 문서내에 각 rating이 나온 횟수로 측정 , $P(A|B)$는 Likelihood다.\n",
    "\n",
    "Chain rule를 활용하면 Likelihood $\\times$ prior 은 아래와 같이 된다.\n",
    "\n",
    "$P(a_1, a_2 ,\\cdots, a_n, B) \\\\ \n",
    "= P(a_1, a_2 ,\\cdots, a_n|B)P(B) \\\\\n",
    "= P(a_2, \\cdots, a_n|B, a_1)P(a_1|B)P(B) \\\\\n",
    "= \\cdots = P(a_n|B, a_1, \\cdots, a_{n-1}) \\cdots P(a_1|B)P(B)$\n",
    "\n",
    "여기서 $P(B)$를 제외한 부분은 구하기 어렵기 때문에 Navie가정을 하여($a_i$는 각기 다른 $a_i$과 독립이며, B에 대하여 조건부 독립이다) 계산. 즉,\n",
    "\n",
    "$P(a_1|B) = P(a_1|B)\\\\\n",
    "P(a_2|B, a_1) = P(a_2|B)\\\\\n",
    "\\quad \\vdots \\\\\n",
    "P(a_n|B, a_1, \\cdots, a_{n-1}) = P(a_n|B)$\n",
    "\n",
    "가 되는 것이고 종합하게 되면 $ P(a_1, a_2 ,\\cdots, a_n, B) = \\prod_{i=1}^{n}{P(a_i|B)}P(B)$ 가 된다."
   ]
  },
  {
   "cell_type": "code",
   "execution_count": null,
   "metadata": {
    "collapsed": true
   },
   "outputs": [],
   "source": [
    "class NavieBayesian(object):\n",
    "    def __init__(self)"
   ]
  },
  {
   "cell_type": "markdown",
   "metadata": {},
   "source": [
    "## Doc2vec"
   ]
  },
  {
   "cell_type": "code",
   "execution_count": 20,
   "metadata": {
    "collapsed": false
   },
   "outputs": [],
   "source": [
    "from gensim.models import Doc2Vec, Word2Vec"
   ]
  },
  {
   "cell_type": "code",
   "execution_count": 13,
   "metadata": {
    "collapsed": false
   },
   "outputs": [],
   "source": []
  },
  {
   "cell_type": "code",
   "execution_count": null,
   "metadata": {
    "collapsed": true
   },
   "outputs": [],
   "source": []
  },
  {
   "cell_type": "markdown",
   "metadata": {},
   "source": [
    "---"
   ]
  },
  {
   "cell_type": "markdown",
   "metadata": {},
   "source": [
    "Compressed Sparse Row matrix\n",
    "\n",
    "데이터가 sparse 할 때 쓰면 좋은 것 (0이 많고 값이 중간에 듬성듬성있는것들)"
   ]
  },
  {
   "cell_type": "code",
   "execution_count": 11,
   "metadata": {
    "collapsed": true
   },
   "outputs": [],
   "source": [
    "from scipy.sparse import csr_matrix"
   ]
  },
  {
   "cell_type": "code",
   "execution_count": 12,
   "metadata": {
    "collapsed": false
   },
   "outputs": [],
   "source": [
    "docs = [[\"hello\", \"world\", \"hello\"], [\"goodbye\", \"cruel\", \"world\"]]\n",
    "indptr = [0]\n",
    "indices = []\n",
    "data = []\n",
    "vocabulary = {}\n",
    "for d in docs:\n",
    "    for term in d:\n",
    "        index = vocabulary.setdefault(term, len(vocabulary)) \n",
    "        indices.append(index)\n",
    "        data.append(1)\n",
    "    indptr.append(len(indices))"
   ]
  },
  {
   "cell_type": "code",
   "execution_count": 106,
   "metadata": {
    "collapsed": false,
    "scrolled": true
   },
   "outputs": [
    {
     "data": {
      "text/plain": [
       "array([[2, 1, 0, 0],\n",
       "       [0, 1, 1, 1]])"
      ]
     },
     "execution_count": 106,
     "metadata": {},
     "output_type": "execute_result"
    }
   ],
   "source": [
    "csr_matrix((data, indices, indptr), dtype=int).toarray()"
   ]
  }
 ],
 "metadata": {
  "kernelspec": {
   "display_name": "Python [conda root]",
   "language": "python",
   "name": "conda-root-py"
  },
  "language_info": {
   "codemirror_mode": {
    "name": "ipython",
    "version": 3
   },
   "file_extension": ".py",
   "mimetype": "text/x-python",
   "name": "python",
   "nbconvert_exporter": "python",
   "pygments_lexer": "ipython3",
   "version": "3.6.0"
  }
 },
 "nbformat": 4,
 "nbformat_minor": 2
}
