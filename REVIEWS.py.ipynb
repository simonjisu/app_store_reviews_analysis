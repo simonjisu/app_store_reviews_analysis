{
 "cells": [
  {
   "cell_type": "markdown",
   "metadata": {},
   "source": [
    "## **앱스토어 리뷰 감성 분석**"
   ]
  },
  {
   "cell_type": "markdown",
   "metadata": {},
   "source": [
    "### 문제정의\n",
    "각 앱들의 리뷰들과 평점이 양의 관계에 있다고 가정하고 학습을 진행하여 평점을 예측"
   ]
  },
  {
   "cell_type": "markdown",
   "metadata": {},
   "source": [
    "### 데이터 불러오기"
   ]
  },
  {
   "cell_type": "markdown",
   "metadata": {},
   "source": [
    "tsv 파일 불러오기"
   ]
  },
  {
   "cell_type": "code",
   "execution_count": 2,
   "metadata": {
    "collapsed": true
   },
   "outputs": [],
   "source": [
    "def get_data_split(filename):\n",
    "    with open(filename, 'r', encoding='utf-8') as f:\n",
    "        docs = [doc.lower().replace('\\n','').split('\\t') for doc in f.readlines()]\n",
    "        docs = [doc for doc in docs if len(doc) == 3]\n",
    "        \n",
    "    if not docs:\n",
    "        app_ids, texts, ratings = [], [], []\n",
    "\n",
    "    app_ids, texts, ratings = zip(*docs)\n",
    "    return list(app_ids), list(texts), list(ratings)"
   ]
  },
  {
   "cell_type": "code",
   "execution_count": 3,
   "metadata": {
    "collapsed": true
   },
   "outputs": [],
   "source": [
    "train_app_ids, train_texts, train_ratings = get_data_split('./data/train_docs.txt')\n",
    "test_app_ids, test_texts, test_ratings = get_data_split('./data/test_docs.txt')"
   ]
  },
  {
   "cell_type": "markdown",
   "metadata": {},
   "source": [
    "json 파일 불러오기"
   ]
  },
  {
   "cell_type": "code",
   "execution_count": 1,
   "metadata": {
    "collapsed": true
   },
   "outputs": [],
   "source": [
    "import ujson\n",
    "\n",
    "def get_data_json(filename):\n",
    "    with open(filename, 'r', encoding='utf-8') as file:\n",
    "        texts = file.read()\n",
    "        data = ujson.loads(texts)\n",
    "        app_ids_list = list(data.keys())\n",
    "    return data, app_ids_list"
   ]
  },
  {
   "cell_type": "code",
   "execution_count": 55,
   "metadata": {
    "collapsed": false
   },
   "outputs": [],
   "source": [
    "train_data, train_app_id_list = get_data_json('./data/train_json.txt')\n",
    "test_data, test_app_id_list = get_data_json('./data/test_json.txt')"
   ]
  },
  {
   "cell_type": "markdown",
   "metadata": {},
   "source": [
    "### 데이터 전처리: 형태소 분석\n",
    "1. 축약어, 오타:\n",
    "골치거리임, 전형적인 한국 사전에 없는 단어들도 많음, 사전에 없는 단어를 트위터사전에 넣어야 할 듯\n",
    "2. 띄어쓰기가 불분명함\n",
    "\n",
    "$\\Rightarrow$ data Cleaning class 필요성 있음\n",
    "\n",
    "### 데이터 후처리\n",
    "\n",
    "데이터 후처리란 형태소 분석기를 거친 후에 이상한 단어들, 신조어 등을 처리하는 작업\n"
   ]
  },
  {
   "cell_type": "markdown",
   "metadata": {},
   "source": [
    "각 앱별로 공백문자를 나눠서 공통된 단어를 추출해보기? 앱별로 공통으로 많이 이야기 하는 단어들이 제대로 형태소 분석이 되는지 테스트 하기 위해 단어들을 추출해본다\n",
    "\n",
    "문제점: 일일이 확인 하기 어려움"
   ]
  },
  {
   "cell_type": "code",
   "execution_count": 2,
   "metadata": {
    "collapsed": true
   },
   "outputs": [],
   "source": [
    "from collections import Counter, defaultdict\n",
    "from konlpy.tag import Twitter, Komoran, Mecab\n",
    "from utils import Unknown_words, Post_ma\n",
    "twitter = Twitter()\n",
    "komoran = Komoran()\n",
    "mecab = Mecab()"
   ]
  },
  {
   "cell_type": "markdown",
   "metadata": {},
   "source": [
    "## 형태소 분석 후처리"
   ]
  },
  {
   "cell_type": "markdown",
   "metadata": {},
   "source": [
    "### Mecab"
   ]
  },
  {
   "cell_type": "code",
   "execution_count": 4,
   "metadata": {
    "collapsed": false
   },
   "outputs": [],
   "source": [
    "train_ma_docs, app_id_list = get_data_json('./data/ma_train_json_mecab.txt')"
   ]
  },
  {
   "cell_type": "markdown",
   "metadata": {},
   "source": [
    "### Unknown에 대한 처리(Mecab) [잠정보류]\n",
    "부호같은 거는 후처리를 안하고 그냥 제거하기로 "
   ]
  },
  {
   "cell_type": "code",
   "execution_count": 16,
   "metadata": {
    "collapsed": false
   },
   "outputs": [
    {
     "data": {
      "text/plain": [
       "17237"
      ]
     },
     "execution_count": 16,
     "metadata": {},
     "output_type": "execute_result"
    }
   ],
   "source": [
    "unknown_list = get_unknown_words(train_ma_docs, app_id_list)\n",
    "len(unknown_list)"
   ]
  },
  {
   "cell_type": "code",
   "execution_count": 17,
   "metadata": {
    "collapsed": false,
    "scrolled": true
   },
   "outputs": [
    {
     "data": {
      "text/plain": [
       "['ㅃㄴㅅ',\n",
       " '괜안네요',\n",
       " 'ㅋㅋㅋㅋㅠ',\n",
       " 'ㅋㅋㅋㅋㅋㅋ지혼자만',\n",
       " 'ㅠㅠ위젯캘린더겸',\n",
       " 'ㅋㅋ추천할만합니당',\n",
       " 'ㅠㅠ당일',\n",
       " 'ㅓㅓㅓㅓㅓ무',\n",
       " 'ㅠㅠ큰맘먹고',\n",
       " '른어츨보다',\n",
       " '걍찍는사진도너무많아서',\n",
       " 'ㅡㅡㅡㅡ수정좀요',\n",
       " '켯드라',\n",
       " 'ㅇ었믄데',\n",
       " 'ㅋㅋㅋ좋어요',\n",
       " '줜나게해가',\n",
       " '괜츈하더라구요',\n",
       " 'ㅏ나가됨니다',\n",
       " 'ㅋㅋㅋㅋㅋㅋㅋㅋ돌았나ㅋㅋㅋㅋㅋㅋㅋㅋ',\n",
       " 'ㅠㅠ용랑때문에']"
      ]
     },
     "execution_count": 17,
     "metadata": {},
     "output_type": "execute_result"
    }
   ],
   "source": [
    "unknown_list[40:60]"
   ]
  },
  {
   "cell_type": "markdown",
   "metadata": {},
   "source": [
    "주로 말도 안되는 말들이나 ㅡ, ㅉ,ㅜ,ㅠ,ㅋ 앞이나 뒤에 붙어서 형태소 분석이 안된다.( 웃음(ㅋㅋ)이나 이모티콘(ㅜㅜ) 같은..) 이 단어들을 때주고 다시 넣어보자"
   ]
  },
  {
   "cell_type": "markdown",
   "metadata": {},
   "source": [
    "처리가 되면 \n",
    "\n",
    "{'기존 unknown':'형태소 분석 된 unknown'} 과 잔존 unkown_list 출력\n",
    "\n",
    "앞에의 dictionary를 ma_unknown_rule.txt로 저장해서 두고주고 쓸것"
   ]
  },
  {
   "cell_type": "code",
   "execution_count": 19,
   "metadata": {
    "collapsed": false
   },
   "outputs": [],
   "source": [
    "unknown_rule, rest_unknown_list = remove_emo(unknown_list, mecab)"
   ]
  },
  {
   "cell_type": "code",
   "execution_count": 38,
   "metadata": {
    "collapsed": false,
    "scrolled": true
   },
   "outputs": [
    {
     "data": {
      "text/plain": [
       "9981"
      ]
     },
     "execution_count": 38,
     "metadata": {},
     "output_type": "execute_result"
    }
   ],
   "source": [
    "len(rest_unknown_list)"
   ]
  },
  {
   "cell_type": "markdown",
   "metadata": {},
   "source": [
    "---"
   ]
  },
  {
   "cell_type": "markdown",
   "metadata": {},
   "source": [
    "## komoran\n",
    "이게 제일 나은듯?\n"
   ]
  },
  {
   "cell_type": "code",
   "execution_count": 3,
   "metadata": {
    "collapsed": false
   },
   "outputs": [],
   "source": [
    "train_ma_docs, app_id_list = get_data_json('./data/ma_train_json_komoran.txt')"
   ]
  },
  {
   "cell_type": "markdown",
   "metadata": {},
   "source": [
    "'NA'확인"
   ]
  },
  {
   "cell_type": "code",
   "execution_count": 4,
   "metadata": {
    "collapsed": false
   },
   "outputs": [],
   "source": [
    "UNK = Unknown_words(train_ma_docs, app_id_list)"
   ]
  },
  {
   "cell_type": "code",
   "execution_count": 5,
   "metadata": {
    "collapsed": false
   },
   "outputs": [
    {
     "name": "stdout",
     "output_type": "stream",
     "text": [
      "Unknown: 70342, total: 173157\n"
     ]
    }
   ],
   "source": [
    "unknown_list = UNK.get_unknown_words()"
   ]
  },
  {
   "cell_type": "code",
   "execution_count": 7,
   "metadata": {
    "collapsed": false
   },
   "outputs": [
    {
     "data": {
      "text/plain": [
       "['나또채금ㅇ야',\n",
       " '대박일텐뎈',\n",
       " '부족해요ㅠㅠ삭제',\n",
       " '플스겜',\n",
       " '굳굿궀귣귯귰',\n",
       " 'ㅂ좋아요',\n",
       " '왜바뀌고나서이따구여...전껄로돌려쥬....로지로지ㅜㅜㅜ',\n",
       " '강추합니다!!ㅎㅎㅎㅎㅎ',\n",
       " '번거로워요ㅜ',\n",
       " 'ㅠㅠ자연의',\n",
       " '초기호ㅘ까지',\n",
       " '된다고하네요ㅜㅜ환불해주세요',\n",
       " '자동스크롤을',\n",
       " '우왕귿~!',\n",
       " '잘쓰고있었지말입니다ㅠㅠ',\n",
       " '중입니닿ㅎ아주',\n",
       " '너뮤',\n",
       " 'ㅋㅋ성악가분이나',\n",
       " '재미이쩌영~~~',\n",
       " '구우웃....']"
      ]
     },
     "execution_count": 7,
     "metadata": {},
     "output_type": "execute_result"
    }
   ],
   "source": [
    "unknown_list[20:40]"
   ]
  },
  {
   "cell_type": "code",
   "execution_count": 8,
   "metadata": {
    "collapsed": false
   },
   "outputs": [
    {
     "data": {
      "text/plain": [
       "[['371629295', (431, 23)]]"
      ]
     },
     "execution_count": 8,
     "metadata": {},
     "output_type": "execute_result"
    }
   ],
   "source": [
    "UNK.unknown_loc['ㅋㅋ성악가분이나']"
   ]
  },
  {
   "cell_type": "code",
   "execution_count": 6,
   "metadata": {
    "collapsed": false
   },
   "outputs": [
    {
     "data": {
      "text/plain": [
       "39287"
      ]
     },
     "execution_count": 6,
     "metadata": {},
     "output_type": "execute_result"
    }
   ],
   "source": [
    "unknown_rule, rest_unknown_list = UNK.remove_no_meanings(unknown_list, komoran)\n",
    "len(rest_unknown_list)"
   ]
  },
  {
   "cell_type": "markdown",
   "metadata": {},
   "source": [
    "이상하게 여기서 mecab쓰면 더 좋아짐"
   ]
  },
  {
   "cell_type": "markdown",
   "metadata": {
    "collapsed": false
   },
   "source": [
    "unknown_rule, rest_unknown_list = remove_emo(unknown_list, mecab)\n",
    "len(rest_unknown_list)"
   ]
  },
  {
   "cell_type": "markdown",
   "metadata": {},
   "source": [
    "리스트 형태로 바꿔줌"
   ]
  },
  {
   "cell_type": "code",
   "execution_count": 9,
   "metadata": {
    "collapsed": false
   },
   "outputs": [],
   "source": [
    "post_ma_list = UNK.shape_changer(unknown_rule)"
   ]
  },
  {
   "cell_type": "markdown",
   "metadata": {},
   "source": [
    "('팅', 'IC'), ('김', 'NNP') >> (튕기, VV)\n",
    "\n",
    "('팅', 'MAG'), ('기', 'VV')  >> (튕기, VV)\n",
    "\n",
    "('배', 'VV'), ('ㄹ', 'ETM'), ('붕', 'NNG') >> ('밸런스', 'NNG'), ('붕괴', 'NNG')\n",
    "\n",
    "등등.."
   ]
  },
  {
   "cell_type": "markdown",
   "metadata": {},
   "source": [
    "형태소 분석기 돌리기 전에 우선 문법을 좀 고쳐야 되는ㄱ ㅓ아닌가 ..됬는데 --> 됐는데...\n",
    "\n",
    "우선 단어 사전을 만들고 다시 unknown에 대해서 단어가 있으면 스페이싱을 하는 방법?\n",
    "\n",
    "혹은 자음모음 나눠서 단어장에 유사도가 비슷하면 채택?"
   ]
  },
  {
   "cell_type": "code",
   "execution_count": 10,
   "metadata": {
    "collapsed": false
   },
   "outputs": [
    {
     "name": "stdout",
     "output_type": "stream",
     "text": [
      "Load Complete!\n"
     ]
    }
   ],
   "source": [
    "post_ma = Post_ma(tokenizer_name='komoran')"
   ]
  },
  {
   "cell_type": "code",
   "execution_count": 10,
   "metadata": {
    "collapsed": false
   },
   "outputs": [],
   "source": [
    "# post_ma.update(post_ma_list, write=True)"
   ]
  },
  {
   "cell_type": "code",
   "execution_count": 10,
   "metadata": {
    "collapsed": false
   },
   "outputs": [],
   "source": [
    "# post_ma.load()"
   ]
  },
  {
   "cell_type": "code",
   "execution_count": 11,
   "metadata": {
    "collapsed": false
   },
   "outputs": [],
   "source": [
    "train_ma_docs = post_ma.replace_ma_docs(train_ma_docs, UNK.unknown_loc)"
   ]
  },
  {
   "cell_type": "markdown",
   "metadata": {},
   "source": [
    "스위칭 됬는지 확인!"
   ]
  },
  {
   "cell_type": "code",
   "execution_count": 13,
   "metadata": {
    "collapsed": false
   },
   "outputs": [
    {
     "data": {
      "text/plain": [
       "[['성악가', 'NNG'], ['분', 'XSN'], ['이나', 'JC']]"
      ]
     },
     "execution_count": 13,
     "metadata": {},
     "output_type": "execute_result"
    }
   ],
   "source": [
    "train_ma_docs['371629295'][431][23]"
   ]
  },
  {
   "cell_type": "markdown",
   "metadata": {},
   "source": [
    "---"
   ]
  },
  {
   "cell_type": "markdown",
   "metadata": {},
   "source": [
    "## Twitter"
   ]
  },
  {
   "cell_type": "markdown",
   "metadata": {},
   "source": [
    "트위터가 생각보다 개판인듯... '내역'만 좀 어떻게 해보자"
   ]
  },
  {
   "cell_type": "code",
   "execution_count": 9,
   "metadata": {
    "collapsed": false
   },
   "outputs": [],
   "source": [
    "train_ma_docs, app_id_list = get_data_json('./data/ma_train_json_twitter.txt')"
   ]
  },
  {
   "cell_type": "markdown",
   "metadata": {},
   "source": [
    "---"
   ]
  },
  {
   "cell_type": "markdown",
   "metadata": {},
   "source": [
    "### 주요 품사별 추출 및 사전 만들기"
   ]
  },
  {
   "cell_type": "markdown",
   "metadata": {},
   "source": [
    "MNG(일반 명사), NNP(고유 명사), VV(동사), VA(형용사)이며, 경우에 따라 MM(관형사), MAG(일반 부사), MAJ(접속 부사)\n",
    "\n",
    "일단 노 추출하고 사전 만들어보자"
   ]
  },
  {
   "cell_type": "code",
   "execution_count": null,
   "metadata": {
    "collapsed": true
   },
   "outputs": [],
   "source": []
  }
 ],
 "metadata": {
  "kernelspec": {
   "display_name": "Python [conda root]",
   "language": "python",
   "name": "conda-root-py"
  },
  "language_info": {
   "codemirror_mode": {
    "name": "ipython",
    "version": 3
   },
   "file_extension": ".py",
   "mimetype": "text/x-python",
   "name": "python",
   "nbconvert_exporter": "python",
   "pygments_lexer": "ipython3",
   "version": "3.6.0"
  }
 },
 "nbformat": 4,
 "nbformat_minor": 2
}
